{
 "cells": [
  {
   "cell_type": "code",
   "execution_count": 3,
   "metadata": {},
   "outputs": [],
   "source": [
    "import os\n",
    "\n",
    "# Set paths\n",
    "labels_dir = \"/mnt/nvme_disk2/User_data/nb57077k/cardiovision/phase2/Dataset/Original Data/labels/train_augmented\"  # Directory containing YOLO .txt annotation files\n",
    "output_dir = \"/mnt/nvme_disk2/User_data/nb57077k/cardiovision/phase2/Dataset/SOV_DATA/labels/train_augmented\"  # Save filtered labels\n",
    "\n",
    "os.makedirs(output_dir, exist_ok=True)\n",
    "\n",
    "# Define the class to keep (e.g., class 1)\n",
    "target_class = 1  # Change this to the class you want to keep\n",
    "\n",
    "# Loop through label files\n",
    "for file in os.listdir(labels_dir):\n",
    "    if file.endswith(\".txt\"):\n",
    "        input_path = os.path.join(labels_dir, file)\n",
    "        output_path = os.path.join(output_dir, file)\n",
    "        \n",
    "        with open(input_path, \"r\") as f:\n",
    "            lines = f.readlines()\n",
    "        \n",
    "        # Keep only the bounding boxes for the target class\n",
    "        filtered_lines = [line for line in lines if line.startswith(f\"{target_class} \")]\n",
    "\n",
    "        # Save the filtered labels\n",
    "        with open(output_path, \"w\") as f:\n",
    "            f.writelines(filtered_lines)\n"
   ]
  },
  {
   "cell_type": "code",
   "execution_count": 4,
   "metadata": {},
   "outputs": [],
   "source": [
    "import os\n",
    "\n",
    "# Set paths\n",
    "labels_dir = \"/mnt/nvme_disk2/User_data/nb57077k/cardiovision/phase2/Dataset/Original Data/labels/val\"  # Directory containing YOLO .txt annotation files\n",
    "output_dir = \"/mnt/nvme_disk2/User_data/nb57077k/cardiovision/phase2/Dataset/SOV_DATA/labels/val\"  # Save filtered labels\n",
    "\n",
    "os.makedirs(output_dir, exist_ok=True)\n",
    "\n",
    "# Define the class to keep (e.g., class 1)\n",
    "target_class = 1  # Change this to the class you want to keep\n",
    "\n",
    "# Loop through label files\n",
    "for file in os.listdir(labels_dir):\n",
    "    if file.endswith(\".txt\"):\n",
    "        input_path = os.path.join(labels_dir, file)\n",
    "        output_path = os.path.join(output_dir, file)\n",
    "        \n",
    "        with open(input_path, \"r\") as f:\n",
    "            lines = f.readlines()\n",
    "        \n",
    "        # Keep only the bounding boxes for the target class\n",
    "        filtered_lines = [line for line in lines if line.startswith(f\"{target_class} \")]\n",
    "\n",
    "        # Save the filtered labels\n",
    "        with open(output_path, \"w\") as f:\n",
    "            f.writelines(filtered_lines)\n"
   ]
  },
  {
   "cell_type": "code",
   "execution_count": 6,
   "metadata": {},
   "outputs": [
    {
     "name": "stdout",
     "output_type": "stream",
     "text": [
      "Folder copied successfully from /mnt/nvme_disk2/User_data/nb57077k/cardiovision/phase2/Dataset/Original Data/images/train_augmented to /mnt/nvme_disk2/User_data/nb57077k/cardiovision/phase2/Dataset/SOV_DATA/images/train_augmented!\n"
     ]
    }
   ],
   "source": [
    "import shutil\n",
    "\n",
    "# Define source and destination paths\n",
    "source_folder = \"/mnt/nvme_disk2/User_data/nb57077k/cardiovision/phase2/Dataset/Original Data/images/train_augmented\"  # Replace with the folder you want to copy\n",
    "destination_folder = \"/mnt/nvme_disk2/User_data/nb57077k/cardiovision/phase2/Dataset/SOV_DATA/images/train_augmented\"  # Replace with where you want to copy\n",
    "\n",
    "# Copy entire folder (including files and subfolders)\n",
    "shutil.copytree(source_folder, destination_folder, dirs_exist_ok=True)\n",
    "\n",
    "print(f\"Folder copied successfully from {source_folder} to {destination_folder}!\")\n"
   ]
  },
  {
   "cell_type": "code",
   "execution_count": 8,
   "metadata": {},
   "outputs": [
    {
     "name": "stdout",
     "output_type": "stream",
     "text": [
      "✅ Successfully replaced all class labels with 0!\n"
     ]
    }
   ],
   "source": [
    "import os\n",
    "\n",
    "# Set label directory\n",
    "label_dir = \"/mnt/nvme_disk2/User_data/nb57077k/cardiovision/phase2/Dataset/SOV_DATA/labels/val\"  # Change this to your label directory\n",
    "\n",
    "# Process each label file\n",
    "for file in os.listdir(label_dir):\n",
    "    if file.endswith(\".txt\"):\n",
    "        file_path = os.path.join(label_dir, file)\n",
    "\n",
    "        with open(file_path, \"r\") as f:\n",
    "            lines = f.readlines()\n",
    "\n",
    "        # Modify class label to 0 while keeping the rest of the data unchanged\n",
    "        updated_lines = []\n",
    "        for line in lines:\n",
    "            parts = line.strip().split()  # Split values by space\n",
    "            if len(parts) == 5:  # Ensure it has the correct YOLO format\n",
    "                if(parts[0]==\"1\"):\n",
    "                    parts[0] = \"0\"  # Replace class label with 0\n",
    "                    updated_lines.append(\" \".join(parts) + \"\\n\")\n",
    "                else:\n",
    "                    print(file_path)\n",
    "        # Overwrite the file with updated labels\n",
    "        with open(file_path, \"w\") as f:\n",
    "            f.writelines(updated_lines)\n",
    "\n",
    "print(\"✅ Successfully replaced all class labels with 0!\")\n"
   ]
  },
  {
   "cell_type": "code",
   "execution_count": null,
   "metadata": {},
   "outputs": [],
   "source": []
  }
 ],
 "metadata": {
  "kernelspec": {
   "display_name": "harsh",
   "language": "python",
   "name": "python3"
  },
  "language_info": {
   "codemirror_mode": {
    "name": "ipython",
    "version": 3
   },
   "file_extension": ".py",
   "mimetype": "text/x-python",
   "name": "python",
   "nbconvert_exporter": "python",
   "pygments_lexer": "ipython3",
   "version": "3.10.9"
  }
 },
 "nbformat": 4,
 "nbformat_minor": 2
}
