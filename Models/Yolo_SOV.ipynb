{
 "cells": [
  {
   "cell_type": "code",
   "execution_count": 3,
   "metadata": {},
   "outputs": [
    {
     "name": "stdout",
     "output_type": "stream",
     "text": [
      "Ultralytics 8.3.84 🚀 Python-3.10.9 torch-2.5.1+cu124 CUDA:0 (NVIDIA H100 80GB HBM3, 80995MiB)\n",
      "\u001b[34m\u001b[1mengine/trainer: \u001b[0mtask=detect, mode=train, model=yolov8n.pt, data=/mnt/nvme_disk2/User_data/nb57077k/cardiovision/phase2/Dataset/SOV_DATA/data.yaml, epochs=20, time=None, patience=10, batch=16, imgsz=640, save=True, save_period=-1, cache=False, device=cuda, workers=4, project=yolo_training, name=yolov8_sov, exist_ok=False, pretrained=True, optimizer=auto, verbose=True, seed=0, deterministic=True, single_cls=False, rect=False, cos_lr=False, close_mosaic=10, resume=False, amp=True, fraction=1.0, profile=False, freeze=None, multi_scale=False, overlap_mask=True, mask_ratio=4, dropout=0.0, val=True, split=val, save_json=False, save_hybrid=False, conf=None, iou=0.7, max_det=300, half=False, dnn=False, plots=True, source=None, vid_stride=1, stream_buffer=False, visualize=False, augment=True, agnostic_nms=False, classes=None, retina_masks=False, embed=None, show=False, save_frames=False, save_txt=False, save_conf=False, save_crop=False, show_labels=True, show_conf=True, show_boxes=True, line_width=None, format=torchscript, keras=False, optimize=False, int8=False, dynamic=False, simplify=True, opset=None, workspace=None, nms=False, lr0=0.01, lrf=0.01, momentum=0.937, weight_decay=0.0005, warmup_epochs=3.0, warmup_momentum=0.8, warmup_bias_lr=0.1, box=7.5, cls=0.5, dfl=1.5, pose=12.0, kobj=1.0, nbs=64, hsv_h=0.015, hsv_s=0.7, hsv_v=0.4, degrees=0.0, translate=0.1, scale=0.5, shear=0.0, perspective=0.0, flipud=0.0, fliplr=0.5, bgr=0.0, mosaic=1.0, mixup=0.0, copy_paste=0.0, copy_paste_mode=flip, auto_augment=randaugment, erasing=0.4, crop_fraction=1.0, cfg=None, tracker=botsort.yaml, save_dir=yolo_training/yolov8_sov\n"
     ]
    },
    {
     "name": "stderr",
     "output_type": "stream",
     "text": [
      "WARNING: All log messages before absl::InitializeLog() is called are written to STDERR\n",
      "E0000 00:00:1741263141.544707 3440755 cuda_dnn.cc:8310] Unable to register cuDNN factory: Attempting to register factory for plugin cuDNN when one has already been registered\n",
      "E0000 00:00:1741263141.550396 3440755 cuda_blas.cc:1418] Unable to register cuBLAS factory: Attempting to register factory for plugin cuBLAS when one has already been registered\n"
     ]
    },
    {
     "name": "stdout",
     "output_type": "stream",
     "text": [
      "Overriding model.yaml nc=80 with nc=1\n",
      "\n",
      "                   from  n    params  module                                       arguments                     \n",
      "  0                  -1  1       464  ultralytics.nn.modules.conv.Conv             [3, 16, 3, 2]                 \n",
      "  1                  -1  1      4672  ultralytics.nn.modules.conv.Conv             [16, 32, 3, 2]                \n",
      "  2                  -1  1      7360  ultralytics.nn.modules.block.C2f             [32, 32, 1, True]             \n",
      "  3                  -1  1     18560  ultralytics.nn.modules.conv.Conv             [32, 64, 3, 2]                \n",
      "  4                  -1  2     49664  ultralytics.nn.modules.block.C2f             [64, 64, 2, True]             \n",
      "  5                  -1  1     73984  ultralytics.nn.modules.conv.Conv             [64, 128, 3, 2]               \n",
      "  6                  -1  2    197632  ultralytics.nn.modules.block.C2f             [128, 128, 2, True]           \n",
      "  7                  -1  1    295424  ultralytics.nn.modules.conv.Conv             [128, 256, 3, 2]              \n",
      "  8                  -1  1    460288  ultralytics.nn.modules.block.C2f             [256, 256, 1, True]           \n",
      "  9                  -1  1    164608  ultralytics.nn.modules.block.SPPF            [256, 256, 5]                 \n",
      " 10                  -1  1         0  torch.nn.modules.upsampling.Upsample         [None, 2, 'nearest']          \n",
      " 11             [-1, 6]  1         0  ultralytics.nn.modules.conv.Concat           [1]                           \n",
      " 12                  -1  1    148224  ultralytics.nn.modules.block.C2f             [384, 128, 1]                 \n",
      " 13                  -1  1         0  torch.nn.modules.upsampling.Upsample         [None, 2, 'nearest']          \n",
      " 14             [-1, 4]  1         0  ultralytics.nn.modules.conv.Concat           [1]                           \n",
      " 15                  -1  1     37248  ultralytics.nn.modules.block.C2f             [192, 64, 1]                  \n",
      " 16                  -1  1     36992  ultralytics.nn.modules.conv.Conv             [64, 64, 3, 2]                \n",
      " 17            [-1, 12]  1         0  ultralytics.nn.modules.conv.Concat           [1]                           \n",
      " 18                  -1  1    123648  ultralytics.nn.modules.block.C2f             [192, 128, 1]                 \n",
      " 19                  -1  1    147712  ultralytics.nn.modules.conv.Conv             [128, 128, 3, 2]              \n",
      " 20             [-1, 9]  1         0  ultralytics.nn.modules.conv.Concat           [1]                           \n",
      " 21                  -1  1    493056  ultralytics.nn.modules.block.C2f             [384, 256, 1]                 \n",
      " 22        [15, 18, 21]  1    751507  ultralytics.nn.modules.head.Detect           [1, [64, 128, 256]]           \n",
      "Model summary: 129 layers, 3,011,043 parameters, 3,011,027 gradients, 8.2 GFLOPs\n",
      "\n",
      "Transferred 319/355 items from pretrained weights\n",
      "\u001b[34m\u001b[1mTensorBoard: \u001b[0mStart with 'tensorboard --logdir yolo_training/yolov8_sov', view at http://localhost:6006/\n",
      "Freezing layer 'model.22.dfl.conv.weight'\n",
      "\u001b[34m\u001b[1mAMP: \u001b[0mrunning Automatic Mixed Precision (AMP) checks...\n",
      "\u001b[34m\u001b[1mAMP: \u001b[0mchecks passed ✅\n"
     ]
    },
    {
     "name": "stderr",
     "output_type": "stream",
     "text": [
      "\u001b[34m\u001b[1mtrain: \u001b[0mScanning /mnt/nvme_disk2/User_data/nb57077k/cardiovision/phase2/Dataset/SOV_DATA/labels/train_augmented.cache... 1150 images, 0 backgrounds, 0 corrupt: 100%|██████████| 1150/1150 [00:00<?, ?it/s]\n"
     ]
    },
    {
     "name": "stdout",
     "output_type": "stream",
     "text": [
      "\u001b[34m\u001b[1malbumentations: \u001b[0mBlur(p=0.01, blur_limit=(3, 7)), MedianBlur(p=0.01, blur_limit=(3, 7)), ToGray(p=0.01, num_output_channels=3, method='weighted_average'), CLAHE(p=0.01, clip_limit=(1.0, 4.0), tile_grid_size=(8, 8))\n"
     ]
    },
    {
     "name": "stderr",
     "output_type": "stream",
     "text": [
      "/mnt/nvme_disk2/User_data/nb57077k/miniconda3/envs/harsh/lib/python3.10/site-packages/albumentations/__init__.py:28: UserWarning: A new version of Albumentations is available: '2.0.5' (you have '2.0.3'). Upgrade using: pip install -U albumentations. To disable automatic update checks, set the environment variable NO_ALBUMENTATIONS_UPDATE to 1.\n",
      "  check_for_updates()\n",
      "\u001b[34m\u001b[1mval: \u001b[0mScanning /mnt/nvme_disk2/User_data/nb57077k/cardiovision/phase2/Dataset/SOV_DATA/labels/val.cache... 59 images, 0 backgrounds, 0 corrupt: 100%|██████████| 59/59 [00:00<?, ?it/s]\n"
     ]
    },
    {
     "name": "stdout",
     "output_type": "stream",
     "text": [
      "Plotting labels to yolo_training/yolov8_sov/labels.jpg... \n",
      "\u001b[34m\u001b[1moptimizer:\u001b[0m 'optimizer=auto' found, ignoring 'lr0=0.01' and 'momentum=0.937' and determining best 'optimizer', 'lr0' and 'momentum' automatically... \n",
      "\u001b[34m\u001b[1moptimizer:\u001b[0m AdamW(lr=0.002, momentum=0.9) with parameter groups 57 weight(decay=0.0), 64 weight(decay=0.0005), 63 bias(decay=0.0)\n",
      "\u001b[34m\u001b[1mTensorBoard: \u001b[0mmodel graph visualization added ✅\n",
      "Image sizes 640 train, 640 val\n",
      "Using 4 dataloader workers\n",
      "Logging results to \u001b[1myolo_training/yolov8_sov\u001b[0m\n",
      "Starting training for 20 epochs...\n",
      "\n",
      "      Epoch    GPU_mem   box_loss   cls_loss   dfl_loss  Instances       Size\n"
     ]
    },
    {
     "name": "stderr",
     "output_type": "stream",
     "text": [
      "       1/20      2.01G      1.957      3.055      1.954         19        640: 100%|██████████| 72/72 [00:05<00:00, 12.79it/s]\n",
      "                 Class     Images  Instances      Box(P          R      mAP50  mAP50-95): 100%|██████████| 2/2 [00:00<00:00,  6.11it/s]"
     ]
    },
    {
     "name": "stdout",
     "output_type": "stream",
     "text": [
      "                   all         59         59      0.781      0.302      0.671      0.265\n"
     ]
    },
    {
     "name": "stderr",
     "output_type": "stream",
     "text": [
      "\n"
     ]
    },
    {
     "name": "stdout",
     "output_type": "stream",
     "text": [
      "\n",
      "      Epoch    GPU_mem   box_loss   cls_loss   dfl_loss  Instances       Size\n"
     ]
    },
    {
     "name": "stderr",
     "output_type": "stream",
     "text": [
      "       2/20      1.99G       1.57      1.952       1.62         27        640: 100%|██████████| 72/72 [00:04<00:00, 16.34it/s]\n",
      "                 Class     Images  Instances      Box(P          R      mAP50  mAP50-95): 100%|██████████| 2/2 [00:00<00:00, 13.37it/s]"
     ]
    },
    {
     "name": "stdout",
     "output_type": "stream",
     "text": [
      "                   all         59         59      0.686      0.237      0.328      0.105\n"
     ]
    },
    {
     "name": "stderr",
     "output_type": "stream",
     "text": [
      "\n"
     ]
    },
    {
     "name": "stdout",
     "output_type": "stream",
     "text": [
      "\n",
      "      Epoch    GPU_mem   box_loss   cls_loss   dfl_loss  Instances       Size\n"
     ]
    },
    {
     "name": "stderr",
     "output_type": "stream",
     "text": [
      "       3/20      1.99G      1.529      1.605      1.628         25        640: 100%|██████████| 72/72 [00:04<00:00, 15.98it/s]\n",
      "                 Class     Images  Instances      Box(P          R      mAP50  mAP50-95): 100%|██████████| 2/2 [00:00<00:00, 11.90it/s]"
     ]
    },
    {
     "name": "stdout",
     "output_type": "stream",
     "text": [
      "                   all         59         59      0.919      0.678      0.838      0.277\n"
     ]
    },
    {
     "name": "stderr",
     "output_type": "stream",
     "text": [
      "\n"
     ]
    },
    {
     "name": "stdout",
     "output_type": "stream",
     "text": [
      "\n",
      "      Epoch    GPU_mem   box_loss   cls_loss   dfl_loss  Instances       Size\n"
     ]
    },
    {
     "name": "stderr",
     "output_type": "stream",
     "text": [
      "       4/20      1.99G      1.493      1.402      1.584         28        640: 100%|██████████| 72/72 [00:04<00:00, 17.27it/s]\n",
      "                 Class     Images  Instances      Box(P          R      mAP50  mAP50-95): 100%|██████████| 2/2 [00:00<00:00,  9.09it/s]"
     ]
    },
    {
     "name": "stdout",
     "output_type": "stream",
     "text": [
      "                   all         59         59      0.917       0.75      0.911      0.403\n"
     ]
    },
    {
     "name": "stderr",
     "output_type": "stream",
     "text": [
      "\n"
     ]
    },
    {
     "name": "stdout",
     "output_type": "stream",
     "text": [
      "\n",
      "      Epoch    GPU_mem   box_loss   cls_loss   dfl_loss  Instances       Size\n"
     ]
    },
    {
     "name": "stderr",
     "output_type": "stream",
     "text": [
      "       5/20      1.99G      1.437      1.239      1.575         23        640: 100%|██████████| 72/72 [00:04<00:00, 16.21it/s]\n",
      "                 Class     Images  Instances      Box(P          R      mAP50  mAP50-95): 100%|██████████| 2/2 [00:00<00:00, 16.05it/s]"
     ]
    },
    {
     "name": "stdout",
     "output_type": "stream",
     "text": [
      "                   all         59         59      0.885      0.797      0.915       0.38\n"
     ]
    },
    {
     "name": "stderr",
     "output_type": "stream",
     "text": [
      "\n"
     ]
    },
    {
     "name": "stdout",
     "output_type": "stream",
     "text": [
      "\n",
      "      Epoch    GPU_mem   box_loss   cls_loss   dfl_loss  Instances       Size\n"
     ]
    },
    {
     "name": "stderr",
     "output_type": "stream",
     "text": [
      "       6/20      1.99G      1.374      1.104      1.535         30        640: 100%|██████████| 72/72 [00:04<00:00, 16.15it/s]\n",
      "                 Class     Images  Instances      Box(P          R      mAP50  mAP50-95): 100%|██████████| 2/2 [00:00<00:00, 12.38it/s]"
     ]
    },
    {
     "name": "stdout",
     "output_type": "stream",
     "text": [
      "                   all         59         59      0.797      0.746        0.8      0.266\n"
     ]
    },
    {
     "name": "stderr",
     "output_type": "stream",
     "text": [
      "\n"
     ]
    },
    {
     "name": "stdout",
     "output_type": "stream",
     "text": [
      "\n",
      "      Epoch    GPU_mem   box_loss   cls_loss   dfl_loss  Instances       Size\n"
     ]
    },
    {
     "name": "stderr",
     "output_type": "stream",
     "text": [
      "       7/20      1.99G      1.276     0.9958      1.469         32        640: 100%|██████████| 72/72 [00:04<00:00, 17.26it/s]\n",
      "                 Class     Images  Instances      Box(P          R      mAP50  mAP50-95): 100%|██████████| 2/2 [00:00<00:00, 15.53it/s]"
     ]
    },
    {
     "name": "stdout",
     "output_type": "stream",
     "text": [
      "                   all         59         59      0.844      0.824      0.763      0.215\n"
     ]
    },
    {
     "name": "stderr",
     "output_type": "stream",
     "text": [
      "\n"
     ]
    },
    {
     "name": "stdout",
     "output_type": "stream",
     "text": [
      "\n",
      "      Epoch    GPU_mem   box_loss   cls_loss   dfl_loss  Instances       Size\n"
     ]
    },
    {
     "name": "stderr",
     "output_type": "stream",
     "text": [
      "       8/20      1.99G      1.273     0.9638      1.468         22        640: 100%|██████████| 72/72 [00:04<00:00, 16.46it/s]\n",
      "                 Class     Images  Instances      Box(P          R      mAP50  mAP50-95): 100%|██████████| 2/2 [00:00<00:00, 10.38it/s]"
     ]
    },
    {
     "name": "stdout",
     "output_type": "stream",
     "text": [
      "                   all         59         59      0.927      0.932       0.95      0.371\n"
     ]
    },
    {
     "name": "stderr",
     "output_type": "stream",
     "text": [
      "\n"
     ]
    },
    {
     "name": "stdout",
     "output_type": "stream",
     "text": [
      "\n",
      "      Epoch    GPU_mem   box_loss   cls_loss   dfl_loss  Instances       Size\n"
     ]
    },
    {
     "name": "stderr",
     "output_type": "stream",
     "text": [
      "       9/20      1.99G      1.232     0.8736      1.441         19        640: 100%|██████████| 72/72 [00:04<00:00, 16.75it/s]\n",
      "                 Class     Images  Instances      Box(P          R      mAP50  mAP50-95): 100%|██████████| 2/2 [00:00<00:00, 11.15it/s]"
     ]
    },
    {
     "name": "stdout",
     "output_type": "stream",
     "text": [
      "                   all         59         59      0.961      0.932      0.972      0.454\n"
     ]
    },
    {
     "name": "stderr",
     "output_type": "stream",
     "text": [
      "\n"
     ]
    },
    {
     "name": "stdout",
     "output_type": "stream",
     "text": [
      "\n",
      "      Epoch    GPU_mem   box_loss   cls_loss   dfl_loss  Instances       Size\n"
     ]
    },
    {
     "name": "stderr",
     "output_type": "stream",
     "text": [
      "      10/20      1.99G        1.2     0.8876      1.428         23        640: 100%|██████████| 72/72 [00:04<00:00, 15.87it/s]\n",
      "                 Class     Images  Instances      Box(P          R      mAP50  mAP50-95): 100%|██████████| 2/2 [00:00<00:00, 16.67it/s]"
     ]
    },
    {
     "name": "stdout",
     "output_type": "stream",
     "text": [
      "                   all         59         59       0.91      0.915      0.958      0.379\n"
     ]
    },
    {
     "name": "stderr",
     "output_type": "stream",
     "text": [
      "\n"
     ]
    },
    {
     "name": "stdout",
     "output_type": "stream",
     "text": [
      "Closing dataloader mosaic\n",
      "\u001b[34m\u001b[1malbumentations: \u001b[0mBlur(p=0.01, blur_limit=(3, 7)), MedianBlur(p=0.01, blur_limit=(3, 7)), ToGray(p=0.01, num_output_channels=3, method='weighted_average'), CLAHE(p=0.01, clip_limit=(1.0, 4.0), tile_grid_size=(8, 8))\n",
      "\n",
      "      Epoch    GPU_mem   box_loss   cls_loss   dfl_loss  Instances       Size\n"
     ]
    },
    {
     "name": "stderr",
     "output_type": "stream",
     "text": [
      "      11/20      1.99G      1.075     0.6965        1.4         14        640: 100%|██████████| 72/72 [00:04<00:00, 14.99it/s]\n",
      "                 Class     Images  Instances      Box(P          R      mAP50  mAP50-95): 100%|██████████| 2/2 [00:00<00:00, 10.98it/s]\n"
     ]
    },
    {
     "name": "stdout",
     "output_type": "stream",
     "text": [
      "                   all         59         59      0.902      0.915      0.951      0.386\n",
      "\n",
      "      Epoch    GPU_mem   box_loss   cls_loss   dfl_loss  Instances       Size\n"
     ]
    },
    {
     "name": "stderr",
     "output_type": "stream",
     "text": [
      "      12/20      1.99G      1.005     0.6214      1.359         14        640: 100%|██████████| 72/72 [00:03<00:00, 18.35it/s]\n",
      "                 Class     Images  Instances      Box(P          R      mAP50  mAP50-95): 100%|██████████| 2/2 [00:00<00:00,  9.86it/s]"
     ]
    },
    {
     "name": "stdout",
     "output_type": "stream",
     "text": [
      "                   all         59         59       0.93      0.966      0.964      0.438\n"
     ]
    },
    {
     "name": "stderr",
     "output_type": "stream",
     "text": [
      "\n"
     ]
    },
    {
     "name": "stdout",
     "output_type": "stream",
     "text": [
      "\n",
      "      Epoch    GPU_mem   box_loss   cls_loss   dfl_loss  Instances       Size\n"
     ]
    },
    {
     "name": "stderr",
     "output_type": "stream",
     "text": [
      "      13/20      1.99G     0.9772     0.5827       1.32         14        640: 100%|██████████| 72/72 [00:04<00:00, 16.16it/s]\n",
      "                 Class     Images  Instances      Box(P          R      mAP50  mAP50-95): 100%|██████████| 2/2 [00:00<00:00, 15.84it/s]"
     ]
    },
    {
     "name": "stdout",
     "output_type": "stream",
     "text": [
      "                   all         59         59      0.933      0.941      0.962      0.402\n"
     ]
    },
    {
     "name": "stderr",
     "output_type": "stream",
     "text": [
      "\n"
     ]
    },
    {
     "name": "stdout",
     "output_type": "stream",
     "text": [
      "\n",
      "      Epoch    GPU_mem   box_loss   cls_loss   dfl_loss  Instances       Size\n"
     ]
    },
    {
     "name": "stderr",
     "output_type": "stream",
     "text": [
      "      14/20      1.99G     0.9213     0.5488      1.287         14        640: 100%|██████████| 72/72 [00:04<00:00, 16.41it/s]\n",
      "                 Class     Images  Instances      Box(P          R      mAP50  mAP50-95): 100%|██████████| 2/2 [00:00<00:00, 16.87it/s]"
     ]
    },
    {
     "name": "stdout",
     "output_type": "stream",
     "text": [
      "                   all         59         59      0.948      0.966      0.974      0.449\n"
     ]
    },
    {
     "name": "stderr",
     "output_type": "stream",
     "text": [
      "\n"
     ]
    },
    {
     "name": "stdout",
     "output_type": "stream",
     "text": [
      "\n",
      "      Epoch    GPU_mem   box_loss   cls_loss   dfl_loss  Instances       Size\n"
     ]
    },
    {
     "name": "stderr",
     "output_type": "stream",
     "text": [
      "      15/20      1.99G     0.8361     0.5049      1.202         14        640: 100%|██████████| 72/72 [00:03<00:00, 19.42it/s]\n",
      "                 Class     Images  Instances      Box(P          R      mAP50  mAP50-95): 100%|██████████| 2/2 [00:00<00:00,  6.40it/s]"
     ]
    },
    {
     "name": "stdout",
     "output_type": "stream",
     "text": [
      "                   all         59         59      0.932      0.932      0.961      0.373\n"
     ]
    },
    {
     "name": "stderr",
     "output_type": "stream",
     "text": [
      "\n"
     ]
    },
    {
     "name": "stdout",
     "output_type": "stream",
     "text": [
      "\n",
      "      Epoch    GPU_mem   box_loss   cls_loss   dfl_loss  Instances       Size\n"
     ]
    },
    {
     "name": "stderr",
     "output_type": "stream",
     "text": [
      "      16/20      1.99G     0.7914      0.485       1.17         14        640: 100%|██████████| 72/72 [00:04<00:00, 16.11it/s]\n",
      "                 Class     Images  Instances      Box(P          R      mAP50  mAP50-95): 100%|██████████| 2/2 [00:00<00:00, 10.94it/s]"
     ]
    },
    {
     "name": "stdout",
     "output_type": "stream",
     "text": [
      "                   all         59         59      0.964      0.966      0.969      0.453\n"
     ]
    },
    {
     "name": "stderr",
     "output_type": "stream",
     "text": [
      "\n"
     ]
    },
    {
     "name": "stdout",
     "output_type": "stream",
     "text": [
      "\n",
      "      Epoch    GPU_mem   box_loss   cls_loss   dfl_loss  Instances       Size\n"
     ]
    },
    {
     "name": "stderr",
     "output_type": "stream",
     "text": [
      "      17/20      1.99G     0.7223      0.438      1.131         14        640: 100%|██████████| 72/72 [00:04<00:00, 17.98it/s]\n",
      "                 Class     Images  Instances      Box(P          R      mAP50  mAP50-95): 100%|██████████| 2/2 [00:00<00:00, 10.77it/s]"
     ]
    },
    {
     "name": "stdout",
     "output_type": "stream",
     "text": [
      "                   all         59         59      0.945      0.966       0.97      0.481\n"
     ]
    },
    {
     "name": "stderr",
     "output_type": "stream",
     "text": [
      "\n"
     ]
    },
    {
     "name": "stdout",
     "output_type": "stream",
     "text": [
      "\n",
      "      Epoch    GPU_mem   box_loss   cls_loss   dfl_loss  Instances       Size\n"
     ]
    },
    {
     "name": "stderr",
     "output_type": "stream",
     "text": [
      "      18/20      1.99G     0.6854     0.4183      1.093         14        640: 100%|██████████| 72/72 [00:04<00:00, 17.33it/s]\n",
      "                 Class     Images  Instances      Box(P          R      mAP50  mAP50-95): 100%|██████████| 2/2 [00:00<00:00, 10.50it/s]"
     ]
    },
    {
     "name": "stdout",
     "output_type": "stream",
     "text": [
      "                   all         59         59      0.964      0.966      0.965      0.452\n"
     ]
    },
    {
     "name": "stderr",
     "output_type": "stream",
     "text": [
      "\n"
     ]
    },
    {
     "name": "stdout",
     "output_type": "stream",
     "text": [
      "\n",
      "      Epoch    GPU_mem   box_loss   cls_loss   dfl_loss  Instances       Size\n"
     ]
    },
    {
     "name": "stderr",
     "output_type": "stream",
     "text": [
      "      19/20      1.99G     0.6567      0.414      1.058         14        640: 100%|██████████| 72/72 [00:04<00:00, 16.36it/s]\n",
      "                 Class     Images  Instances      Box(P          R      mAP50  mAP50-95): 100%|██████████| 2/2 [00:00<00:00, 17.07it/s]"
     ]
    },
    {
     "name": "stdout",
     "output_type": "stream",
     "text": [
      "                   all         59         59      0.964      0.966      0.967      0.466\n"
     ]
    },
    {
     "name": "stderr",
     "output_type": "stream",
     "text": [
      "\n"
     ]
    },
    {
     "name": "stdout",
     "output_type": "stream",
     "text": [
      "\n",
      "      Epoch    GPU_mem   box_loss   cls_loss   dfl_loss  Instances       Size\n"
     ]
    },
    {
     "name": "stderr",
     "output_type": "stream",
     "text": [
      "      20/20      1.99G     0.6128     0.3864       1.03         14        640: 100%|██████████| 72/72 [00:04<00:00, 15.42it/s]\n",
      "                 Class     Images  Instances      Box(P          R      mAP50  mAP50-95): 100%|██████████| 2/2 [00:00<00:00,  9.47it/s]"
     ]
    },
    {
     "name": "stdout",
     "output_type": "stream",
     "text": [
      "                   all         59         59      0.963      0.966       0.97      0.441\n"
     ]
    },
    {
     "name": "stderr",
     "output_type": "stream",
     "text": [
      "\n"
     ]
    },
    {
     "name": "stdout",
     "output_type": "stream",
     "text": [
      "\n",
      "20 epochs completed in 0.029 hours.\n",
      "Optimizer stripped from yolo_training/yolov8_sov/weights/last.pt, 6.2MB\n",
      "Optimizer stripped from yolo_training/yolov8_sov/weights/best.pt, 6.2MB\n",
      "\n",
      "Validating yolo_training/yolov8_sov/weights/best.pt...\n",
      "Ultralytics 8.3.84 🚀 Python-3.10.9 torch-2.5.1+cu124 CUDA:0 (NVIDIA H100 80GB HBM3, 80995MiB)\n",
      "Model summary (fused): 72 layers, 3,005,843 parameters, 0 gradients, 8.1 GFLOPs\n"
     ]
    },
    {
     "name": "stderr",
     "output_type": "stream",
     "text": [
      "                 Class     Images  Instances      Box(P          R      mAP50  mAP50-95): 100%|██████████| 2/2 [00:00<00:00,  4.95it/s]\n"
     ]
    },
    {
     "name": "stdout",
     "output_type": "stream",
     "text": [
      "                   all         59         59      0.863      0.957      0.977      0.471\n",
      "Speed: 0.1ms preprocess, 4.2ms inference, 0.0ms loss, 0.4ms postprocess per image\n",
      "Results saved to \u001b[1myolo_training/yolov8_sov\u001b[0m\n",
      "Training complete!\n"
     ]
    }
   ],
   "source": [
    "from ultralytics import YOLO\n",
    "\n",
    "# Path to dataset YAML file\n",
    "dataset_yaml = \"/mnt/nvme_disk2/User_data/nb57077k/cardiovision/phase2/Dataset/SOV_DATA/data.yaml\"  # Update this with the correct path\n",
    "\n",
    "# Load the YOLO model (Choose a model: yolov8n.pt, yolov8s.pt, yolov8m.pt, yolov8l.pt, yolov8x.pt)\n",
    "model = YOLO(\"yolov8n.pt\")  # Change the model as needed\n",
    "\n",
    "# Train the model\n",
    "model.train(\n",
    "    data=dataset_yaml,     # Path to dataset YAML\n",
    "    epochs=20,            # Number of training epochs\n",
    "    imgsz=640,             # Image size\n",
    "    batch=16,              # Batch size (adjust based on GPU memory)\n",
    "    device=\"cuda\",         # Use GPU (\"cuda\") or CPU (\"cpu\")\n",
    "    project=\"yolo_training\",  # Folder to save results\n",
    "    name=\"yolov8_sov\",     # Experiment name\n",
    "    workers=4,             # Number of dataloader workers\n",
    "    patience=10,           # Stop if no improvement after 10 epochs\n",
    "    augment=True           # Use data augmentation\n",
    ")\n",
    "\n",
    "# Print results\n",
    "print(\"Training complete!\")\n"
   ]
  },
  {
   "cell_type": "code",
   "execution_count": 2,
   "metadata": {},
   "outputs": [
    {
     "name": "stdout",
     "output_type": "stream",
     "text": [
      "\n",
      "image 1/1 /mnt/nvme_disk2/User_data/nb57077k/cardiovision/phase2/Dataset/SOV_DATA/images/val/RIVAS SEGURA, LUIS - 3mensio Screen Recording_longitudinal_view_314.png: 640x576 1 SOV, 5.1ms\n",
      "Speed: 4.2ms preprocess, 5.1ms inference, 1.1ms postprocess per image at shape (1, 3, 640, 576)\n",
      "\n",
      "image 1/1 /mnt/nvme_disk2/User_data/nb57077k/cardiovision/phase2/Dataset/SOV_DATA/images/val/RIVAS SEGURA, LUIS - 3mensio Screen Recording_longitudinal_view_377.png: 640x576 1 SOV, 12.7ms\n",
      "Speed: 10.2ms preprocess, 12.7ms inference, 12.5ms postprocess per image at shape (1, 3, 640, 576)\n",
      "\n",
      "image 1/1 /mnt/nvme_disk2/User_data/nb57077k/cardiovision/phase2/Dataset/SOV_DATA/images/val/S B - 3mensio Screen Recording_longitudinal_view_1003.png: 640x608 1 SOV, 13.5ms\n",
      "Speed: 2.3ms preprocess, 13.5ms inference, 12.2ms postprocess per image at shape (1, 3, 640, 608)\n",
      "\n",
      "image 1/1 /mnt/nvme_disk2/User_data/nb57077k/cardiovision/phase2/Dataset/SOV_DATA/images/val/S B - 3mensio Screen Recording_longitudinal_view_845.png: 640x608 1 SOV, 6.1ms\n",
      "Speed: 2.7ms preprocess, 6.1ms inference, 7.5ms postprocess per image at shape (1, 3, 640, 608)\n",
      "\n",
      "image 1/1 /mnt/nvme_disk2/User_data/nb57077k/cardiovision/phase2/Dataset/SOV_DATA/images/val/S B - 3mensio Screen Recording_longitudinal_view_941.png: 640x608 2 SOVs, 3.8ms\n",
      "Speed: 2.0ms preprocess, 3.8ms inference, 0.9ms postprocess per image at shape (1, 3, 640, 608)\n",
      "\n",
      "image 1/1 /mnt/nvme_disk2/User_data/nb57077k/cardiovision/phase2/Dataset/SOV_DATA/images/val/S G_longitudinal_view_310.png: 640x576 1 SOV, 4.1ms\n",
      "Speed: 1.9ms preprocess, 4.1ms inference, 0.8ms postprocess per image at shape (1, 3, 640, 576)\n",
      "\n",
      "image 1/1 /mnt/nvme_disk2/User_data/nb57077k/cardiovision/phase2/Dataset/SOV_DATA/images/val/S G_longitudinal_view_315.png: 640x576 1 SOV, 3.9ms\n",
      "Speed: 1.9ms preprocess, 3.9ms inference, 0.7ms postprocess per image at shape (1, 3, 640, 576)\n",
      "\n",
      "image 1/1 /mnt/nvme_disk2/User_data/nb57077k/cardiovision/phase2/Dataset/SOV_DATA/images/val/S G_longitudinal_view_325.png: 640x576 1 SOV, 4.7ms\n",
      "Speed: 2.4ms preprocess, 4.7ms inference, 1.1ms postprocess per image at shape (1, 3, 640, 576)\n",
      "\n",
      "image 1/1 /mnt/nvme_disk2/User_data/nb57077k/cardiovision/phase2/Dataset/SOV_DATA/images/val/S R M R - 3mensio Screen Recording_longitudinal_view_327.png: 608x640 1 SOV, 4.8ms\n",
      "Speed: 2.5ms preprocess, 4.8ms inference, 0.9ms postprocess per image at shape (1, 3, 608, 640)\n",
      "\n",
      "image 1/1 /mnt/nvme_disk2/User_data/nb57077k/cardiovision/phase2/Dataset/SOV_DATA/images/val/S R M R - 3mensio Screen Recording_longitudinal_view_419.png: 608x640 1 SOV, 4.3ms\n",
      "Speed: 2.3ms preprocess, 4.3ms inference, 0.9ms postprocess per image at shape (1, 3, 608, 640)\n",
      "\n",
      "image 1/1 /mnt/nvme_disk2/User_data/nb57077k/cardiovision/phase2/Dataset/SOV_DATA/images/val/S R M R - 3mensio Screen Recording_longitudinal_view_473.png: 608x640 1 SOV, 4.1ms\n",
      "Speed: 2.4ms preprocess, 4.1ms inference, 0.9ms postprocess per image at shape (1, 3, 608, 640)\n",
      "\n",
      "image 1/1 /mnt/nvme_disk2/User_data/nb57077k/cardiovision/phase2/Dataset/SOV_DATA/images/val/S S_longitudinal_view_536.png: 640x608 1 SOV, 5.0ms\n",
      "Speed: 2.8ms preprocess, 5.0ms inference, 0.9ms postprocess per image at shape (1, 3, 640, 608)\n",
      "\n",
      "image 1/1 /mnt/nvme_disk2/User_data/nb57077k/cardiovision/phase2/Dataset/SOV_DATA/images/val/S S_longitudinal_view_781.png: 640x608 1 SOV, 4.1ms\n",
      "Speed: 2.3ms preprocess, 4.1ms inference, 0.9ms postprocess per image at shape (1, 3, 640, 608)\n",
      "\n",
      "image 1/1 /mnt/nvme_disk2/User_data/nb57077k/cardiovision/phase2/Dataset/SOV_DATA/images/val/S S_longitudinal_view_900.png: 640x608 1 SOV, 4.3ms\n",
      "Speed: 2.4ms preprocess, 4.3ms inference, 0.9ms postprocess per image at shape (1, 3, 640, 608)\n",
      "\n",
      "image 1/1 /mnt/nvme_disk2/User_data/nb57077k/cardiovision/phase2/Dataset/SOV_DATA/images/val/S0319RS_longitudinal_view_408.png: 640x576 2 SOVs, 4.9ms\n",
      "Speed: 2.2ms preprocess, 4.9ms inference, 0.8ms postprocess per image at shape (1, 3, 640, 576)\n",
      "\n",
      "image 1/1 /mnt/nvme_disk2/User_data/nb57077k/cardiovision/phase2/Dataset/SOV_DATA/images/val/S0319RS_longitudinal_view_475.png: 640x576 1 SOV, 4.0ms\n",
      "Speed: 2.2ms preprocess, 4.0ms inference, 0.8ms postprocess per image at shape (1, 3, 640, 576)\n",
      "\n",
      "image 1/1 /mnt/nvme_disk2/User_data/nb57077k/cardiovision/phase2/Dataset/SOV_DATA/images/val/S0319RS_longitudinal_view_482.png: 640x576 1 SOV, 4.1ms\n",
      "Speed: 2.1ms preprocess, 4.1ms inference, 0.8ms postprocess per image at shape (1, 3, 640, 576)\n",
      "\n",
      "image 1/1 /mnt/nvme_disk2/User_data/nb57077k/cardiovision/phase2/Dataset/SOV_DATA/images/val/S0330KS_longitudinal_view_255.png: 640x576 1 SOV, 4.1ms\n",
      "Speed: 2.2ms preprocess, 4.1ms inference, 0.8ms postprocess per image at shape (1, 3, 640, 576)\n",
      "\n",
      "image 1/1 /mnt/nvme_disk2/User_data/nb57077k/cardiovision/phase2/Dataset/SOV_DATA/images/val/S0330KS_longitudinal_view_284.png: 640x576 1 SOV, 4.2ms\n",
      "Speed: 2.4ms preprocess, 4.2ms inference, 0.9ms postprocess per image at shape (1, 3, 640, 576)\n",
      "\n",
      "image 1/1 /mnt/nvme_disk2/User_data/nb57077k/cardiovision/phase2/Dataset/SOV_DATA/images/val/S0330KS_longitudinal_view_331.png: 640x576 1 SOV, 4.3ms\n",
      "Speed: 2.3ms preprocess, 4.3ms inference, 1.0ms postprocess per image at shape (1, 3, 640, 576)\n",
      "\n",
      "image 1/1 /mnt/nvme_disk2/User_data/nb57077k/cardiovision/phase2/Dataset/SOV_DATA/images/val/Schuszter, József - 3mensio Screen Recording_longitudinal_view_334.png: 640x576 1 SOV, 8.2ms\n",
      "Speed: 2.6ms preprocess, 8.2ms inference, 1.1ms postprocess per image at shape (1, 3, 640, 576)\n",
      "\n",
      "image 1/1 /mnt/nvme_disk2/User_data/nb57077k/cardiovision/phase2/Dataset/SOV_DATA/images/val/Schuszter, József - 3mensio Screen Recording_longitudinal_view_338.png: 640x576 1 SOV, 4.4ms\n",
      "Speed: 2.1ms preprocess, 4.4ms inference, 1.1ms postprocess per image at shape (1, 3, 640, 576)\n",
      "\n",
      "image 1/1 /mnt/nvme_disk2/User_data/nb57077k/cardiovision/phase2/Dataset/SOV_DATA/images/val/Schuszter, József - 3mensio Screen Recording_longitudinal_view_449.png: 640x576 1 SOV, 4.2ms\n",
      "Speed: 2.0ms preprocess, 4.2ms inference, 0.8ms postprocess per image at shape (1, 3, 640, 576)\n",
      "\n",
      "image 1/1 /mnt/nvme_disk2/User_data/nb57077k/cardiovision/phase2/Dataset/SOV_DATA/images/val/TRAJKOVIÆ, MIRJANA - 3mensio Screen Recording_longitudinal_view_432.png: 640x576 1 SOV, 4.5ms\n",
      "Speed: 1.8ms preprocess, 4.5ms inference, 0.9ms postprocess per image at shape (1, 3, 640, 576)\n",
      "\n",
      "image 1/1 /mnt/nvme_disk2/User_data/nb57077k/cardiovision/phase2/Dataset/SOV_DATA/images/val/TRAJKOVIÆ, MIRJANA - 3mensio Screen Recording_longitudinal_view_561.png: 640x576 1 SOV, 4.7ms\n",
      "Speed: 2.4ms preprocess, 4.7ms inference, 0.8ms postprocess per image at shape (1, 3, 640, 576)\n",
      "\n",
      "image 1/1 /mnt/nvme_disk2/User_data/nb57077k/cardiovision/phase2/Dataset/SOV_DATA/images/val/TRAJKOVIÆ, MIRJANA - 3mensio Screen Recording_longitudinal_view_608.png: 640x576 1 SOV, 8.2ms\n",
      "Speed: 2.2ms preprocess, 8.2ms inference, 0.9ms postprocess per image at shape (1, 3, 640, 576)\n",
      "\n",
      "image 1/1 /mnt/nvme_disk2/User_data/nb57077k/cardiovision/phase2/Dataset/SOV_DATA/images/val/Tsintsadze Izolda - 3mensio Screen Recording_longitudinal_view_419.png: 640x576 1 SOV, 4.0ms\n",
      "Speed: 2.0ms preprocess, 4.0ms inference, 0.9ms postprocess per image at shape (1, 3, 640, 576)\n",
      "\n",
      "image 1/1 /mnt/nvme_disk2/User_data/nb57077k/cardiovision/phase2/Dataset/SOV_DATA/images/val/Tsintsadze Izolda - 3mensio Screen Recording_longitudinal_view_427.png: 640x576 1 SOV, 4.1ms\n",
      "Speed: 2.0ms preprocess, 4.1ms inference, 0.9ms postprocess per image at shape (1, 3, 640, 576)\n",
      "\n",
      "image 1/1 /mnt/nvme_disk2/User_data/nb57077k/cardiovision/phase2/Dataset/SOV_DATA/images/val/Tsintsadze Izolda - 3mensio Screen Recording_longitudinal_view_429.png: 640x576 1 SOV, 4.6ms\n",
      "Speed: 1.9ms preprocess, 4.6ms inference, 0.9ms postprocess per image at shape (1, 3, 640, 576)\n",
      "\n",
      "image 1/1 /mnt/nvme_disk2/User_data/nb57077k/cardiovision/phase2/Dataset/SOV_DATA/images/val/U M_longitudinal_view_447.png: 640x576 1 SOV, 3.8ms\n",
      "Speed: 1.9ms preprocess, 3.8ms inference, 0.9ms postprocess per image at shape (1, 3, 640, 576)\n",
      "\n",
      "image 1/1 /mnt/nvme_disk2/User_data/nb57077k/cardiovision/phase2/Dataset/SOV_DATA/images/val/U M_longitudinal_view_489.png: 640x576 1 SOV, 3.8ms\n",
      "Speed: 1.9ms preprocess, 3.8ms inference, 0.8ms postprocess per image at shape (1, 3, 640, 576)\n",
      "\n",
      "image 1/1 /mnt/nvme_disk2/User_data/nb57077k/cardiovision/phase2/Dataset/SOV_DATA/images/val/U M_longitudinal_view_504.png: 640x576 1 SOV, 3.9ms\n",
      "Speed: 1.9ms preprocess, 3.9ms inference, 0.8ms postprocess per image at shape (1, 3, 640, 576)\n",
      "\n",
      "image 1/1 /mnt/nvme_disk2/User_data/nb57077k/cardiovision/phase2/Dataset/SOV_DATA/images/val/U S J - 3mensio Screen Recording_longitudinal_view_753.png: 640x608 1 SOV, 6.3ms\n",
      "Speed: 2.0ms preprocess, 6.3ms inference, 0.8ms postprocess per image at shape (1, 3, 640, 608)\n",
      "\n",
      "image 1/1 /mnt/nvme_disk2/User_data/nb57077k/cardiovision/phase2/Dataset/SOV_DATA/images/val/U S J - 3mensio Screen Recording_longitudinal_view_825.png: 640x608 1 SOV, 3.9ms\n",
      "Speed: 2.6ms preprocess, 3.9ms inference, 0.9ms postprocess per image at shape (1, 3, 640, 608)\n",
      "\n",
      "image 1/1 /mnt/nvme_disk2/User_data/nb57077k/cardiovision/phase2/Dataset/SOV_DATA/images/val/U S J - 3mensio Screen Recording_longitudinal_view_845.png: 640x608 1 SOV, 3.8ms\n",
      "Speed: 2.1ms preprocess, 3.8ms inference, 0.8ms postprocess per image at shape (1, 3, 640, 608)\n",
      "\n",
      "image 1/1 /mnt/nvme_disk2/User_data/nb57077k/cardiovision/phase2/Dataset/SOV_DATA/images/val/V - 3mensio Screen Recording_longitudinal_view_1080.png: 640x640 1 SOV, 4.2ms\n",
      "Speed: 2.2ms preprocess, 4.2ms inference, 0.9ms postprocess per image at shape (1, 3, 640, 640)\n",
      "\n",
      "image 1/1 /mnt/nvme_disk2/User_data/nb57077k/cardiovision/phase2/Dataset/SOV_DATA/images/val/V - 3mensio Screen Recording_longitudinal_view_747.png: 640x640 1 SOV, 3.9ms\n",
      "Speed: 2.0ms preprocess, 3.9ms inference, 0.8ms postprocess per image at shape (1, 3, 640, 640)\n",
      "\n",
      "image 1/1 /mnt/nvme_disk2/User_data/nb57077k/cardiovision/phase2/Dataset/SOV_DATA/images/val/V - 3mensio Screen Recording_longitudinal_view_894.png: 640x640 1 SOV, 3.8ms\n",
      "Speed: 2.2ms preprocess, 3.8ms inference, 0.8ms postprocess per image at shape (1, 3, 640, 640)\n",
      "\n",
      "image 1/1 /mnt/nvme_disk2/User_data/nb57077k/cardiovision/phase2/Dataset/SOV_DATA/images/val/V A F_longitudinal_view_363.png: 640x576 1 SOV, 3.8ms\n",
      "Speed: 1.8ms preprocess, 3.8ms inference, 0.8ms postprocess per image at shape (1, 3, 640, 576)\n",
      "\n",
      "image 1/1 /mnt/nvme_disk2/User_data/nb57077k/cardiovision/phase2/Dataset/SOV_DATA/images/val/V A F_longitudinal_view_409.png: 640x576 1 SOV, 3.8ms\n",
      "Speed: 1.9ms preprocess, 3.8ms inference, 0.9ms postprocess per image at shape (1, 3, 640, 576)\n",
      "\n",
      "image 1/1 /mnt/nvme_disk2/User_data/nb57077k/cardiovision/phase2/Dataset/SOV_DATA/images/val/V A F_longitudinal_view_531.png: 640x576 1 SOV, 4.3ms\n",
      "Speed: 2.0ms preprocess, 4.3ms inference, 5.0ms postprocess per image at shape (1, 3, 640, 576)\n",
      "\n",
      "image 1/1 /mnt/nvme_disk2/User_data/nb57077k/cardiovision/phase2/Dataset/SOV_DATA/images/val/V J - 3mensio Screen Recording_longitudinal_view_582.png: 608x640 1 SOV, 12.3ms\n",
      "Speed: 5.1ms preprocess, 12.3ms inference, 0.9ms postprocess per image at shape (1, 3, 608, 640)\n",
      "\n",
      "image 1/1 /mnt/nvme_disk2/User_data/nb57077k/cardiovision/phase2/Dataset/SOV_DATA/images/val/V J - 3mensio Screen Recording_longitudinal_view_702.png: 608x640 1 SOV, 7.8ms\n",
      "Speed: 5.9ms preprocess, 7.8ms inference, 0.8ms postprocess per image at shape (1, 3, 608, 640)\n",
      "\n",
      "image 1/1 /mnt/nvme_disk2/User_data/nb57077k/cardiovision/phase2/Dataset/SOV_DATA/images/val/V J - 3mensio Screen Recording_longitudinal_view_710.png: 608x640 1 SOV, 6.6ms\n",
      "Speed: 5.3ms preprocess, 6.6ms inference, 5.9ms postprocess per image at shape (1, 3, 608, 640)\n",
      "\n",
      "image 1/1 /mnt/nvme_disk2/User_data/nb57077k/cardiovision/phase2/Dataset/SOV_DATA/images/val/V K - 3mensio Screen Recording_longitudinal_view_594.png: 608x640 1 SOV, 11.2ms\n",
      "Speed: 2.3ms preprocess, 11.2ms inference, 0.8ms postprocess per image at shape (1, 3, 608, 640)\n",
      "\n",
      "image 1/1 /mnt/nvme_disk2/User_data/nb57077k/cardiovision/phase2/Dataset/SOV_DATA/images/val/V K - 3mensio Screen Recording_longitudinal_view_723.png: 608x640 1 SOV, 8.2ms\n",
      "Speed: 5.4ms preprocess, 8.2ms inference, 3.1ms postprocess per image at shape (1, 3, 608, 640)\n",
      "\n",
      "image 1/1 /mnt/nvme_disk2/User_data/nb57077k/cardiovision/phase2/Dataset/SOV_DATA/images/val/V K - 3mensio Screen Recording_longitudinal_view_752.png: 608x640 1 SOV, 11.8ms\n",
      "Speed: 6.4ms preprocess, 11.8ms inference, 0.9ms postprocess per image at shape (1, 3, 608, 640)\n",
      "\n",
      "image 1/1 /mnt/nvme_disk2/User_data/nb57077k/cardiovision/phase2/Dataset/SOV_DATA/images/val/V V - 3mensio Screen Recording_longitudinal_view_658.png: 640x608 1 SOV, 12.5ms\n",
      "Speed: 2.4ms preprocess, 12.5ms inference, 0.8ms postprocess per image at shape (1, 3, 640, 608)\n",
      "\n",
      "image 1/1 /mnt/nvme_disk2/User_data/nb57077k/cardiovision/phase2/Dataset/SOV_DATA/images/val/V V - 3mensio Screen Recording_longitudinal_view_763.png: 640x608 1 SOV, 4.0ms\n",
      "Speed: 2.2ms preprocess, 4.0ms inference, 0.8ms postprocess per image at shape (1, 3, 640, 608)\n",
      "\n",
      "image 1/1 /mnt/nvme_disk2/User_data/nb57077k/cardiovision/phase2/Dataset/SOV_DATA/images/val/V V - 3mensio Screen Recording_longitudinal_view_935.png: 640x608 1 SOV, 8.0ms\n",
      "Speed: 2.2ms preprocess, 8.0ms inference, 0.8ms postprocess per image at shape (1, 3, 640, 608)\n",
      "\n",
      "image 1/1 /mnt/nvme_disk2/User_data/nb57077k/cardiovision/phase2/Dataset/SOV_DATA/images/val/Varga, Nándor - 3mensio Screen Recording_longitudinal_view_538.png: 640x576 1 SOV, 4.4ms\n",
      "Speed: 2.2ms preprocess, 4.4ms inference, 0.8ms postprocess per image at shape (1, 3, 640, 576)\n",
      "\n",
      "image 1/1 /mnt/nvme_disk2/User_data/nb57077k/cardiovision/phase2/Dataset/SOV_DATA/images/val/Varga, Nándor - 3mensio Screen Recording_longitudinal_view_688.png: 640x576 1 SOV, 4.0ms\n",
      "Speed: 2.2ms preprocess, 4.0ms inference, 0.8ms postprocess per image at shape (1, 3, 640, 576)\n",
      "\n",
      "image 1/1 /mnt/nvme_disk2/User_data/nb57077k/cardiovision/phase2/Dataset/SOV_DATA/images/val/Varga, Nándor - 3mensio Screen Recording_longitudinal_view_783.png: 640x576 1 SOV, 4.1ms\n",
      "Speed: 2.3ms preprocess, 4.1ms inference, 0.9ms postprocess per image at shape (1, 3, 640, 576)\n",
      "\n",
      "image 1/1 /mnt/nvme_disk2/User_data/nb57077k/cardiovision/phase2/Dataset/SOV_DATA/images/val/W D - 3mensio Screen Recording_longitudinal_view_1109.png: 640x608 1 SOV, 4.4ms\n",
      "Speed: 2.3ms preprocess, 4.4ms inference, 0.8ms postprocess per image at shape (1, 3, 640, 608)\n",
      "\n",
      "image 1/1 /mnt/nvme_disk2/User_data/nb57077k/cardiovision/phase2/Dataset/SOV_DATA/images/val/W D - 3mensio Screen Recording_longitudinal_view_1227.png: 640x608 1 SOV, 4.6ms\n",
      "Speed: 2.3ms preprocess, 4.6ms inference, 0.9ms postprocess per image at shape (1, 3, 640, 608)\n",
      "\n",
      "image 1/1 /mnt/nvme_disk2/User_data/nb57077k/cardiovision/phase2/Dataset/SOV_DATA/images/val/W D - 3mensio Screen Recording_longitudinal_view_799.png: 640x608 1 SOV, 4.3ms\n",
      "Speed: 2.5ms preprocess, 4.3ms inference, 1.0ms postprocess per image at shape (1, 3, 640, 608)\n",
      "\n",
      "image 1/1 /mnt/nvme_disk2/User_data/nb57077k/cardiovision/phase2/Dataset/SOV_DATA/images/val/ФИЛИППОВ, Ярослав Владимирович_longitudinal_view_417.png: 640x608 1 SOV, 4.1ms\n",
      "Speed: 2.3ms preprocess, 4.1ms inference, 0.8ms postprocess per image at shape (1, 3, 640, 608)\n",
      "\n",
      "image 1/1 /mnt/nvme_disk2/User_data/nb57077k/cardiovision/phase2/Dataset/SOV_DATA/images/val/ФИЛИППОВ, Ярослав Владимирович_longitudinal_view_456.png: 640x608 1 SOV, 3.9ms\n",
      "Speed: 2.3ms preprocess, 3.9ms inference, 0.8ms postprocess per image at shape (1, 3, 640, 608)\n",
      "\n",
      "image 1/1 /mnt/nvme_disk2/User_data/nb57077k/cardiovision/phase2/Dataset/SOV_DATA/images/val/ФИЛИППОВ, Ярослав Владимирович_longitudinal_view_471.png: 640x608 1 SOV, 4.1ms\n",
      "Speed: 2.3ms preprocess, 4.1ms inference, 0.8ms postprocess per image at shape (1, 3, 640, 608)\n",
      "✅ Inference complete! Annotated frames saved in: predict\n"
     ]
    }
   ],
   "source": [
    "from ultralytics import YOLO\n",
    "import cv2\n",
    "import os\n",
    "\n",
    "# Load YOLO model (use your trained model)\n",
    "model_path = \"/mnt/nvme_disk2/User_data/nb57077k/cardiovision/phase2/Models/yolo_training/yolov8_sov/weights/best.pt\"\n",
    "model = YOLO(model_path)\n",
    "\n",
    "# Path to input frames folder\n",
    "input_folder = \"/mnt/nvme_disk2/User_data/nb57077k/cardiovision/phase2/Dataset/SOV_DATA/images/val\"\n",
    "\n",
    "# Output directory for annotated frames\n",
    "output_folder = \"predict\"\n",
    "os.makedirs(output_folder, exist_ok=True)\n",
    "\n",
    "# Process each image in the folder\n",
    "for frame_file in sorted(os.listdir(input_folder)):  # Sorting ensures correct sequence\n",
    "    if frame_file.lower().endswith(('.jpg', '.png', '.jpeg')):\n",
    "        frame_path = os.path.join(input_folder, frame_file)\n",
    "\n",
    "        # Run YOLO inference\n",
    "        results = model(frame_path)\n",
    "        \n",
    "        # Get detected objects\n",
    "        boxes = results[0].boxes  # Bounding boxes\n",
    "        confs = boxes.conf if boxes is not None else []  # Confidence scores\n",
    "\n",
    "        # Keep only the highest confidence box\n",
    "        if len(confs) > 0:\n",
    "            max_conf_idx = confs.argmax().item()  # Index of highest confidence box\n",
    "            best_box = boxes[max_conf_idx]  # Select best bounding box\n",
    "\n",
    "            # Draw bounding box on the image\n",
    "            img = results[0].orig_img  # Get original image\n",
    "            x1, y1, x2, y2 = map(int, best_box.xyxy[0])  # Get box coordinates\n",
    "            conf = best_box.conf.item()  # Get confidence score\n",
    "            \n",
    "            # Draw rectangle and confidence text\n",
    "            cv2.rectangle(img, (x1, y1), (x2, y2), (0, 255, 0), 2)\n",
    "            cv2.putText(img, f\"Conf: {conf:.2f}\", (x1, y1 - 10), cv2.FONT_HERSHEY_SIMPLEX, \n",
    "                        0.5, (0, 255, 0), 2, cv2.LINE_AA)\n",
    "            \n",
    "            # Save the image with the best box\n",
    "            output_path = os.path.join(output_folder, frame_file)\n",
    "            cv2.imwrite(output_path, img)\n",
    "\n",
    "print(f\"✅ Inference complete! Annotated frames saved in: {output_folder}\")\n"
   ]
  },
  {
   "cell_type": "code",
   "execution_count": 1,
   "metadata": {},
   "outputs": [
    {
     "name": "stdout",
     "output_type": "stream",
     "text": [
      "\n",
      "image 1/1 /mnt/nvme_disk2/User_data/nb57077k/Screenshot from 2025-03-07 17-26-52.png: 640x640 (no detections), 4.2ms\n",
      "Speed: 8.3ms preprocess, 4.2ms inference, 22.2ms postprocess per image at shape (1, 3, 640, 640)\n"
     ]
    },
    {
     "ename": "",
     "evalue": "",
     "output_type": "error",
     "traceback": [
      "\u001b[1;31mThe Kernel crashed while executing code in the current cell or a previous cell. \n",
      "\u001b[1;31mPlease review the code in the cell(s) to identify a possible cause of the failure. \n",
      "\u001b[1;31mClick <a href='https://aka.ms/vscodeJupyterKernelCrash'>here</a> for more info. \n",
      "\u001b[1;31mView Jupyter <a href='command:jupyter.viewOutput'>log</a> for further details."
     ]
    }
   ],
   "source": [
    "from ultralytics import YOLO\n",
    "import cv2\n",
    "import os\n",
    "\n",
    "# Load YOLO model (use your trained model)\n",
    "model_path = \"/mnt/nvme_disk2/User_data/nb57077k/cardiovision/phase2/Models/yolo_training/yolov8_sov/weights/best.pt\"\n",
    "model = YOLO(model_path)\n",
    "\n",
    "# Path to a single image\n",
    "image_path = \"/mnt/nvme_disk2/User_data/nb57077k/Screenshot from 2025-03-07 17-26-52.png\"  # Change this\n",
    "output_image_path = image_path.replace(\".jpg\", \"_annotated.jpg\").replace(\".png\", \"_annotated.png\")  # Save path\n",
    "\n",
    "# Run YOLO inference\n",
    "results = model(image_path)\n",
    "\n",
    "# Load image\n",
    "img = cv2.imread(image_path)\n",
    "h, w, _ = img.shape  # Image dimensions\n",
    "\n",
    "# Get detected objects\n",
    "boxes = results[0].boxes  # Bounding boxes\n",
    "confs = boxes.conf if boxes is not None else []  # Confidence scores\n",
    "\n",
    "# Draw bounding boxes\n",
    "for i in range(len(confs)):\n",
    "    x1, y1, x2, y2 = map(int, boxes.xyxy[i])  # Get absolute coordinates\n",
    "    conf = confs[i].item()  # Get confidence score\n",
    "\n",
    "    # Draw bounding box\n",
    "    cv2.rectangle(img, (x1, y1), (x2, y2), (0, 255, 0), 2)\n",
    "    cv2.putText(img, f\"Conf: {conf:.2f}\", (x1, y1 - 10), cv2.FONT_HERSHEY_SIMPLEX, \n",
    "                0.5, (0, 255, 0), 2, cv2.LINE_AA)\n",
    "\n",
    "# Save annotated image\n",
    "cv2.imwrite(output_image_path, img)\n",
    "print(f\"✅ Annotated image saved: {output_image_path}\")\n",
    "\n",
    "# Display the image (optional)\n",
    "cv2.imshow(\"YOLO Detection\", img)\n",
    "cv2.waitKey(0)\n",
    "cv2.destroyAllWindows()\n"
   ]
  },
  {
   "cell_type": "code",
   "execution_count": null,
   "metadata": {},
   "outputs": [],
   "source": []
  }
 ],
 "metadata": {
  "kernelspec": {
   "display_name": "harsh",
   "language": "python",
   "name": "python3"
  },
  "language_info": {
   "codemirror_mode": {
    "name": "ipython",
    "version": 3
   },
   "file_extension": ".py",
   "mimetype": "text/x-python",
   "name": "python",
   "nbconvert_exporter": "python",
   "pygments_lexer": "ipython3",
   "version": "3.10.9"
  }
 },
 "nbformat": 4,
 "nbformat_minor": 2
}
