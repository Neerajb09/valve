{
 "cells": [
  {
   "cell_type": "code",
   "execution_count": 5,
   "metadata": {},
   "outputs": [
    {
     "name": "stdout",
     "output_type": "stream",
     "text": [
      "Ultralytics 8.3.84 🚀 Python-3.10.9 torch-2.5.1+cu124 CUDA:0 (NVIDIA H100 80GB HBM3, 80995MiB)\n",
      "\u001b[34m\u001b[1mengine/trainer: \u001b[0mtask=detect, mode=train, model=yolov8n.pt, data=/mnt/nvme_disk2/User_data/nb57077k/cardiovision/phase2/Dataset/aorta_data/data.yaml, epochs=50, time=None, patience=50, batch=16, imgsz=640, save=True, save_period=-1, cache=False, device=cuda, workers=4, project=yolo_training_ASC, name=yolov8_sov_ASC, exist_ok=False, pretrained=True, optimizer=auto, verbose=True, seed=0, deterministic=True, single_cls=False, rect=False, cos_lr=False, close_mosaic=10, resume=False, amp=True, fraction=1.0, profile=False, freeze=None, multi_scale=False, overlap_mask=True, mask_ratio=4, dropout=0.0, val=True, split=val, save_json=False, save_hybrid=False, conf=None, iou=0.7, max_det=300, half=False, dnn=False, plots=True, source=None, vid_stride=1, stream_buffer=False, visualize=False, augment=False, agnostic_nms=False, classes=None, retina_masks=False, embed=None, show=False, save_frames=False, save_txt=False, save_conf=False, save_crop=False, show_labels=True, show_conf=True, show_boxes=True, line_width=None, format=torchscript, keras=False, optimize=False, int8=False, dynamic=False, simplify=True, opset=None, workspace=None, nms=False, lr0=0.01, lrf=0.01, momentum=0.937, weight_decay=0.0005, warmup_epochs=3.0, warmup_momentum=0.8, warmup_bias_lr=0.1, box=7.5, cls=0.5, dfl=1.5, pose=12.0, kobj=1.0, nbs=64, hsv_h=0.015, hsv_s=0.7, hsv_v=0.4, degrees=0.0, translate=0.1, scale=0.5, shear=0.0, perspective=0.0, flipud=0.0, fliplr=0.5, bgr=0.0, mosaic=1.0, mixup=0.0, copy_paste=0.0, copy_paste_mode=flip, auto_augment=randaugment, erasing=0.4, crop_fraction=1.0, cfg=None, tracker=botsort.yaml, save_dir=yolo_training_ASC/yolov8_sov_ASC\n",
      "Overriding model.yaml nc=80 with nc=1\n",
      "\n",
      "                   from  n    params  module                                       arguments                     \n",
      "  0                  -1  1       464  ultralytics.nn.modules.conv.Conv             [3, 16, 3, 2]                 \n",
      "  1                  -1  1      4672  ultralytics.nn.modules.conv.Conv             [16, 32, 3, 2]                \n",
      "  2                  -1  1      7360  ultralytics.nn.modules.block.C2f             [32, 32, 1, True]             \n",
      "  3                  -1  1     18560  ultralytics.nn.modules.conv.Conv             [32, 64, 3, 2]                \n",
      "  4                  -1  2     49664  ultralytics.nn.modules.block.C2f             [64, 64, 2, True]             \n",
      "  5                  -1  1     73984  ultralytics.nn.modules.conv.Conv             [64, 128, 3, 2]               \n",
      "  6                  -1  2    197632  ultralytics.nn.modules.block.C2f             [128, 128, 2, True]           \n",
      "  7                  -1  1    295424  ultralytics.nn.modules.conv.Conv             [128, 256, 3, 2]              \n",
      "  8                  -1  1    460288  ultralytics.nn.modules.block.C2f             [256, 256, 1, True]           \n",
      "  9                  -1  1    164608  ultralytics.nn.modules.block.SPPF            [256, 256, 5]                 \n",
      " 10                  -1  1         0  torch.nn.modules.upsampling.Upsample         [None, 2, 'nearest']          \n",
      " 11             [-1, 6]  1         0  ultralytics.nn.modules.conv.Concat           [1]                           \n",
      " 12                  -1  1    148224  ultralytics.nn.modules.block.C2f             [384, 128, 1]                 \n",
      " 13                  -1  1         0  torch.nn.modules.upsampling.Upsample         [None, 2, 'nearest']          \n",
      " 14             [-1, 4]  1         0  ultralytics.nn.modules.conv.Concat           [1]                           \n",
      " 15                  -1  1     37248  ultralytics.nn.modules.block.C2f             [192, 64, 1]                  \n",
      " 16                  -1  1     36992  ultralytics.nn.modules.conv.Conv             [64, 64, 3, 2]                \n",
      " 17            [-1, 12]  1         0  ultralytics.nn.modules.conv.Concat           [1]                           \n",
      " 18                  -1  1    123648  ultralytics.nn.modules.block.C2f             [192, 128, 1]                 \n",
      " 19                  -1  1    147712  ultralytics.nn.modules.conv.Conv             [128, 128, 3, 2]              \n",
      " 20             [-1, 9]  1         0  ultralytics.nn.modules.conv.Concat           [1]                           \n",
      " 21                  -1  1    493056  ultralytics.nn.modules.block.C2f             [384, 256, 1]                 \n",
      " 22        [15, 18, 21]  1    751507  ultralytics.nn.modules.head.Detect           [1, [64, 128, 256]]           \n",
      "Model summary: 129 layers, 3,011,043 parameters, 3,011,027 gradients, 8.2 GFLOPs\n",
      "\n",
      "Transferred 319/355 items from pretrained weights\n",
      "\u001b[34m\u001b[1mTensorBoard: \u001b[0mStart with 'tensorboard --logdir yolo_training_ASC/yolov8_sov_ASC', view at http://localhost:6006/\n",
      "Freezing layer 'model.22.dfl.conv.weight'\n",
      "\u001b[34m\u001b[1mAMP: \u001b[0mrunning Automatic Mixed Precision (AMP) checks...\n",
      "\u001b[34m\u001b[1mAMP: \u001b[0mchecks passed ✅\n"
     ]
    },
    {
     "name": "stderr",
     "output_type": "stream",
     "text": [
      "\u001b[34m\u001b[1mtrain: \u001b[0mScanning /mnt/nvme_disk2/User_data/nb57077k/cardiovision/phase2/Dataset/aorta_data/labels/train.cache... 1150 images, 0 backgrounds, 0 corrupt: 100%|██████████| 1150/1150 [00:00<?, ?it/s]"
     ]
    },
    {
     "name": "stdout",
     "output_type": "stream",
     "text": [
      "\u001b[34m\u001b[1malbumentations: \u001b[0mBlur(p=0.01, blur_limit=(3, 7)), MedianBlur(p=0.01, blur_limit=(3, 7)), ToGray(p=0.01, num_output_channels=3, method='weighted_average'), CLAHE(p=0.01, clip_limit=(1.0, 4.0), tile_grid_size=(8, 8))\n"
     ]
    },
    {
     "name": "stderr",
     "output_type": "stream",
     "text": [
      "\n",
      "\u001b[34m\u001b[1mval: \u001b[0mScanning /mnt/nvme_disk2/User_data/nb57077k/cardiovision/phase2/Dataset/aorta_data/labels/val.cache... 59 images, 0 backgrounds, 0 corrupt: 100%|██████████| 59/59 [00:00<?, ?it/s]\n"
     ]
    },
    {
     "name": "stdout",
     "output_type": "stream",
     "text": [
      "Plotting labels to yolo_training_ASC/yolov8_sov_ASC/labels.jpg... \n",
      "\u001b[34m\u001b[1moptimizer:\u001b[0m 'optimizer=auto' found, ignoring 'lr0=0.01' and 'momentum=0.937' and determining best 'optimizer', 'lr0' and 'momentum' automatically... \n",
      "\u001b[34m\u001b[1moptimizer:\u001b[0m AdamW(lr=0.002, momentum=0.9) with parameter groups 57 weight(decay=0.0), 64 weight(decay=0.0005), 63 bias(decay=0.0)\n",
      "\u001b[34m\u001b[1mTensorBoard: \u001b[0mmodel graph visualization added ✅\n",
      "Image sizes 640 train, 640 val\n",
      "Using 4 dataloader workers\n",
      "Logging results to \u001b[1myolo_training_ASC/yolov8_sov_ASC\u001b[0m\n",
      "Starting training for 50 epochs...\n",
      "\n",
      "      Epoch    GPU_mem   box_loss   cls_loss   dfl_loss  Instances       Size\n"
     ]
    },
    {
     "name": "stderr",
     "output_type": "stream",
     "text": [
      "       1/50      2.08G      2.342      3.253      2.304         25        640: 100%|██████████| 72/72 [00:05<00:00, 13.82it/s]\n",
      "                 Class     Images  Instances      Box(P          R      mAP50  mAP50-95): 100%|██████████| 2/2 [00:00<00:00, 17.84it/s]"
     ]
    },
    {
     "name": "stdout",
     "output_type": "stream",
     "text": [
      "                   all         59         59       0.33      0.203      0.181     0.0537\n"
     ]
    },
    {
     "name": "stderr",
     "output_type": "stream",
     "text": [
      "\n"
     ]
    },
    {
     "name": "stdout",
     "output_type": "stream",
     "text": [
      "\n",
      "      Epoch    GPU_mem   box_loss   cls_loss   dfl_loss  Instances       Size\n"
     ]
    },
    {
     "name": "stderr",
     "output_type": "stream",
     "text": [
      "       2/50      2.05G      1.843      2.331      1.883         31        640: 100%|██████████| 72/72 [00:05<00:00, 13.62it/s]\n",
      "                 Class     Images  Instances      Box(P          R      mAP50  mAP50-95): 100%|██████████| 2/2 [00:00<00:00, 20.11it/s]"
     ]
    },
    {
     "name": "stdout",
     "output_type": "stream",
     "text": [
      "                   all         59         59      0.417      0.407      0.319     0.0901\n"
     ]
    },
    {
     "name": "stderr",
     "output_type": "stream",
     "text": [
      "\n"
     ]
    },
    {
     "name": "stdout",
     "output_type": "stream",
     "text": [
      "\n",
      "      Epoch    GPU_mem   box_loss   cls_loss   dfl_loss  Instances       Size\n"
     ]
    },
    {
     "name": "stderr",
     "output_type": "stream",
     "text": [
      "       3/50      2.03G      1.826      2.045      1.899         35        640: 100%|██████████| 72/72 [00:04<00:00, 16.27it/s]\n",
      "                 Class     Images  Instances      Box(P          R      mAP50  mAP50-95): 100%|██████████| 2/2 [00:00<00:00, 18.05it/s]"
     ]
    },
    {
     "name": "stdout",
     "output_type": "stream",
     "text": [
      "                   all         59         59      0.293      0.356      0.282     0.0952\n"
     ]
    },
    {
     "name": "stderr",
     "output_type": "stream",
     "text": [
      "\n"
     ]
    },
    {
     "name": "stdout",
     "output_type": "stream",
     "text": [
      "\n",
      "      Epoch    GPU_mem   box_loss   cls_loss   dfl_loss  Instances       Size\n"
     ]
    },
    {
     "name": "stderr",
     "output_type": "stream",
     "text": [
      "       4/50      2.03G      1.781      1.807       1.86         35        640: 100%|██████████| 72/72 [00:04<00:00, 14.89it/s]\n",
      "                 Class     Images  Instances      Box(P          R      mAP50  mAP50-95): 100%|██████████| 2/2 [00:00<00:00, 18.16it/s]"
     ]
    },
    {
     "name": "stdout",
     "output_type": "stream",
     "text": [
      "                   all         59         59      0.176      0.254      0.104     0.0294\n"
     ]
    },
    {
     "name": "stderr",
     "output_type": "stream",
     "text": [
      "\n"
     ]
    },
    {
     "name": "stdout",
     "output_type": "stream",
     "text": [
      "\n",
      "      Epoch    GPU_mem   box_loss   cls_loss   dfl_loss  Instances       Size\n"
     ]
    },
    {
     "name": "stderr",
     "output_type": "stream",
     "text": [
      "       5/50      2.03G      1.768      1.734      1.832         28        640: 100%|██████████| 72/72 [00:04<00:00, 17.95it/s]\n",
      "                 Class     Images  Instances      Box(P          R      mAP50  mAP50-95): 100%|██████████| 2/2 [00:00<00:00, 18.08it/s]"
     ]
    },
    {
     "name": "stdout",
     "output_type": "stream",
     "text": [
      "                   all         59         59      0.361      0.373      0.313     0.0743\n"
     ]
    },
    {
     "name": "stderr",
     "output_type": "stream",
     "text": [
      "\n"
     ]
    },
    {
     "name": "stdout",
     "output_type": "stream",
     "text": [
      "\n",
      "      Epoch    GPU_mem   box_loss   cls_loss   dfl_loss  Instances       Size\n"
     ]
    },
    {
     "name": "stderr",
     "output_type": "stream",
     "text": [
      "       6/50      2.03G      1.641       1.59      1.742         38        640: 100%|██████████| 72/72 [00:04<00:00, 14.92it/s]\n",
      "                 Class     Images  Instances      Box(P          R      mAP50  mAP50-95): 100%|██████████| 2/2 [00:00<00:00, 18.68it/s]"
     ]
    },
    {
     "name": "stdout",
     "output_type": "stream",
     "text": [
      "                   all         59         59      0.391      0.542      0.419     0.0964\n"
     ]
    },
    {
     "name": "stderr",
     "output_type": "stream",
     "text": [
      "\n"
     ]
    },
    {
     "name": "stdout",
     "output_type": "stream",
     "text": [
      "\n",
      "      Epoch    GPU_mem   box_loss   cls_loss   dfl_loss  Instances       Size\n"
     ]
    },
    {
     "name": "stderr",
     "output_type": "stream",
     "text": [
      "       7/50      2.03G      1.631      1.526      1.714         36        640: 100%|██████████| 72/72 [00:04<00:00, 17.30it/s]\n",
      "                 Class     Images  Instances      Box(P          R      mAP50  mAP50-95): 100%|██████████| 2/2 [00:00<00:00, 17.72it/s]"
     ]
    },
    {
     "name": "stdout",
     "output_type": "stream",
     "text": [
      "                   all         59         59      0.275      0.492       0.26     0.0621\n"
     ]
    },
    {
     "name": "stderr",
     "output_type": "stream",
     "text": [
      "\n"
     ]
    },
    {
     "name": "stdout",
     "output_type": "stream",
     "text": [
      "\n",
      "      Epoch    GPU_mem   box_loss   cls_loss   dfl_loss  Instances       Size\n"
     ]
    },
    {
     "name": "stderr",
     "output_type": "stream",
     "text": [
      "       8/50      2.03G       1.61      1.491      1.701         31        640: 100%|██████████| 72/72 [00:04<00:00, 17.07it/s]\n",
      "                 Class     Images  Instances      Box(P          R      mAP50  mAP50-95): 100%|██████████| 2/2 [00:00<00:00, 12.48it/s]"
     ]
    },
    {
     "name": "stdout",
     "output_type": "stream",
     "text": [
      "                   all         59         59      0.423      0.472      0.369     0.0876\n"
     ]
    },
    {
     "name": "stderr",
     "output_type": "stream",
     "text": [
      "\n"
     ]
    },
    {
     "name": "stdout",
     "output_type": "stream",
     "text": [
      "\n",
      "      Epoch    GPU_mem   box_loss   cls_loss   dfl_loss  Instances       Size\n"
     ]
    },
    {
     "name": "stderr",
     "output_type": "stream",
     "text": [
      "       9/50      2.03G      1.565      1.406      1.665         31        640: 100%|██████████| 72/72 [00:04<00:00, 17.07it/s]\n",
      "                 Class     Images  Instances      Box(P          R      mAP50  mAP50-95): 100%|██████████| 2/2 [00:00<00:00, 18.58it/s]"
     ]
    },
    {
     "name": "stdout",
     "output_type": "stream",
     "text": [
      "                   all         59         59      0.407      0.492      0.352     0.0725\n"
     ]
    },
    {
     "name": "stderr",
     "output_type": "stream",
     "text": [
      "\n"
     ]
    },
    {
     "name": "stdout",
     "output_type": "stream",
     "text": [
      "\n",
      "      Epoch    GPU_mem   box_loss   cls_loss   dfl_loss  Instances       Size\n"
     ]
    },
    {
     "name": "stderr",
     "output_type": "stream",
     "text": [
      "      10/50      2.03G      1.553      1.382      1.656         32        640: 100%|██████████| 72/72 [00:03<00:00, 18.26it/s]\n",
      "                 Class     Images  Instances      Box(P          R      mAP50  mAP50-95): 100%|██████████| 2/2 [00:00<00:00, 17.13it/s]"
     ]
    },
    {
     "name": "stdout",
     "output_type": "stream",
     "text": [
      "                   all         59         59      0.428      0.444      0.405      0.087\n"
     ]
    },
    {
     "name": "stderr",
     "output_type": "stream",
     "text": [
      "\n"
     ]
    },
    {
     "name": "stdout",
     "output_type": "stream",
     "text": [
      "\n",
      "      Epoch    GPU_mem   box_loss   cls_loss   dfl_loss  Instances       Size\n"
     ]
    },
    {
     "name": "stderr",
     "output_type": "stream",
     "text": [
      "      11/50      2.03G      1.497      1.287      1.595         31        640: 100%|██████████| 72/72 [00:04<00:00, 15.39it/s]\n",
      "                 Class     Images  Instances      Box(P          R      mAP50  mAP50-95): 100%|██████████| 2/2 [00:00<00:00, 13.82it/s]"
     ]
    },
    {
     "name": "stdout",
     "output_type": "stream",
     "text": [
      "                   all         59         59      0.431      0.525      0.398     0.0863\n"
     ]
    },
    {
     "name": "stderr",
     "output_type": "stream",
     "text": [
      "\n"
     ]
    },
    {
     "name": "stdout",
     "output_type": "stream",
     "text": [
      "\n",
      "      Epoch    GPU_mem   box_loss   cls_loss   dfl_loss  Instances       Size\n"
     ]
    },
    {
     "name": "stderr",
     "output_type": "stream",
     "text": [
      "      12/50      2.03G       1.48      1.298      1.585         30        640: 100%|██████████| 72/72 [00:04<00:00, 16.83it/s]\n",
      "                 Class     Images  Instances      Box(P          R      mAP50  mAP50-95): 100%|██████████| 2/2 [00:00<00:00, 17.66it/s]"
     ]
    },
    {
     "name": "stdout",
     "output_type": "stream",
     "text": [
      "                   all         59         59      0.404      0.475      0.385     0.0965\n"
     ]
    },
    {
     "name": "stderr",
     "output_type": "stream",
     "text": [
      "\n"
     ]
    },
    {
     "name": "stdout",
     "output_type": "stream",
     "text": [
      "\n",
      "      Epoch    GPU_mem   box_loss   cls_loss   dfl_loss  Instances       Size\n"
     ]
    },
    {
     "name": "stderr",
     "output_type": "stream",
     "text": [
      "      13/50      2.03G      1.427      1.202      1.526         25        640: 100%|██████████| 72/72 [00:04<00:00, 17.35it/s]\n",
      "                 Class     Images  Instances      Box(P          R      mAP50  mAP50-95): 100%|██████████| 2/2 [00:00<00:00, 16.77it/s]"
     ]
    },
    {
     "name": "stdout",
     "output_type": "stream",
     "text": [
      "                   all         59         59      0.454      0.458      0.384     0.0956\n"
     ]
    },
    {
     "name": "stderr",
     "output_type": "stream",
     "text": [
      "\n"
     ]
    },
    {
     "name": "stdout",
     "output_type": "stream",
     "text": [
      "\n",
      "      Epoch    GPU_mem   box_loss   cls_loss   dfl_loss  Instances       Size\n"
     ]
    },
    {
     "name": "stderr",
     "output_type": "stream",
     "text": [
      "      14/50      2.03G      1.377      1.149      1.484         34        640: 100%|██████████| 72/72 [00:03<00:00, 18.92it/s]\n",
      "                 Class     Images  Instances      Box(P          R      mAP50  mAP50-95): 100%|██████████| 2/2 [00:00<00:00,  7.61it/s]"
     ]
    },
    {
     "name": "stdout",
     "output_type": "stream",
     "text": [
      "                   all         59         59      0.493      0.424      0.357     0.0969\n"
     ]
    },
    {
     "name": "stderr",
     "output_type": "stream",
     "text": [
      "\n"
     ]
    },
    {
     "name": "stdout",
     "output_type": "stream",
     "text": [
      "\n",
      "      Epoch    GPU_mem   box_loss   cls_loss   dfl_loss  Instances       Size\n"
     ]
    },
    {
     "name": "stderr",
     "output_type": "stream",
     "text": [
      "      15/50      2.03G      1.344      1.086      1.454         31        640: 100%|██████████| 72/72 [00:04<00:00, 15.68it/s]\n",
      "                 Class     Images  Instances      Box(P          R      mAP50  mAP50-95): 100%|██████████| 2/2 [00:00<00:00,  5.80it/s]"
     ]
    },
    {
     "name": "stdout",
     "output_type": "stream",
     "text": [
      "                   all         59         59      0.548      0.407      0.401      0.112\n"
     ]
    },
    {
     "name": "stderr",
     "output_type": "stream",
     "text": [
      "\n"
     ]
    },
    {
     "name": "stdout",
     "output_type": "stream",
     "text": [
      "\n",
      "      Epoch    GPU_mem   box_loss   cls_loss   dfl_loss  Instances       Size\n"
     ]
    },
    {
     "name": "stderr",
     "output_type": "stream",
     "text": [
      "      16/50      2.03G      1.321       1.06      1.436         34        640: 100%|██████████| 72/72 [00:04<00:00, 17.57it/s]\n",
      "                 Class     Images  Instances      Box(P          R      mAP50  mAP50-95): 100%|██████████| 2/2 [00:00<00:00,  4.52it/s]"
     ]
    },
    {
     "name": "stdout",
     "output_type": "stream",
     "text": [
      "                   all         59         59      0.526       0.39      0.401     0.0803\n"
     ]
    },
    {
     "name": "stderr",
     "output_type": "stream",
     "text": [
      "\n"
     ]
    },
    {
     "name": "stdout",
     "output_type": "stream",
     "text": [
      "\n",
      "      Epoch    GPU_mem   box_loss   cls_loss   dfl_loss  Instances       Size\n"
     ]
    },
    {
     "name": "stderr",
     "output_type": "stream",
     "text": [
      "      17/50      2.03G      1.277       1.01      1.402         29        640: 100%|██████████| 72/72 [00:03<00:00, 19.19it/s]\n",
      "                 Class     Images  Instances      Box(P          R      mAP50  mAP50-95): 100%|██████████| 2/2 [00:00<00:00, 18.43it/s]"
     ]
    },
    {
     "name": "stdout",
     "output_type": "stream",
     "text": [
      "                   all         59         59       0.47      0.508      0.369     0.0966\n"
     ]
    },
    {
     "name": "stderr",
     "output_type": "stream",
     "text": [
      "\n"
     ]
    },
    {
     "name": "stdout",
     "output_type": "stream",
     "text": [
      "\n",
      "      Epoch    GPU_mem   box_loss   cls_loss   dfl_loss  Instances       Size\n"
     ]
    },
    {
     "name": "stderr",
     "output_type": "stream",
     "text": [
      "      18/50      2.03G      1.277      1.003      1.389         34        640: 100%|██████████| 72/72 [00:05<00:00, 14.31it/s]\n",
      "                 Class     Images  Instances      Box(P          R      mAP50  mAP50-95): 100%|██████████| 2/2 [00:00<00:00, 18.55it/s]"
     ]
    },
    {
     "name": "stdout",
     "output_type": "stream",
     "text": [
      "                   all         59         59      0.547      0.574      0.462      0.117\n"
     ]
    },
    {
     "name": "stderr",
     "output_type": "stream",
     "text": [
      "\n"
     ]
    },
    {
     "name": "stdout",
     "output_type": "stream",
     "text": [
      "\n",
      "      Epoch    GPU_mem   box_loss   cls_loss   dfl_loss  Instances       Size\n"
     ]
    },
    {
     "name": "stderr",
     "output_type": "stream",
     "text": [
      "      19/50      2.03G      1.225     0.9463      1.363         27        640: 100%|██████████| 72/72 [00:03<00:00, 18.47it/s]\n",
      "                 Class     Images  Instances      Box(P          R      mAP50  mAP50-95): 100%|██████████| 2/2 [00:00<00:00, 19.01it/s]"
     ]
    },
    {
     "name": "stdout",
     "output_type": "stream",
     "text": [
      "                   all         59         59       0.49      0.458      0.311     0.0815\n"
     ]
    },
    {
     "name": "stderr",
     "output_type": "stream",
     "text": [
      "\n"
     ]
    },
    {
     "name": "stdout",
     "output_type": "stream",
     "text": [
      "\n",
      "      Epoch    GPU_mem   box_loss   cls_loss   dfl_loss  Instances       Size\n"
     ]
    },
    {
     "name": "stderr",
     "output_type": "stream",
     "text": [
      "      20/50      2.03G      1.204     0.9308      1.345         32        640: 100%|██████████| 72/72 [00:04<00:00, 14.79it/s]\n",
      "                 Class     Images  Instances      Box(P          R      mAP50  mAP50-95): 100%|██████████| 2/2 [00:00<00:00, 17.91it/s]"
     ]
    },
    {
     "name": "stdout",
     "output_type": "stream",
     "text": [
      "                   all         59         59      0.391      0.458      0.303     0.0854\n"
     ]
    },
    {
     "name": "stderr",
     "output_type": "stream",
     "text": [
      "\n"
     ]
    },
    {
     "name": "stdout",
     "output_type": "stream",
     "text": [
      "\n",
      "      Epoch    GPU_mem   box_loss   cls_loss   dfl_loss  Instances       Size\n"
     ]
    },
    {
     "name": "stderr",
     "output_type": "stream",
     "text": [
      "      21/50      2.03G      1.153     0.8647      1.287         36        640: 100%|██████████| 72/72 [00:03<00:00, 18.18it/s]\n",
      "                 Class     Images  Instances      Box(P          R      mAP50  mAP50-95): 100%|██████████| 2/2 [00:00<00:00, 20.56it/s]"
     ]
    },
    {
     "name": "stdout",
     "output_type": "stream",
     "text": [
      "                   all         59         59      0.457      0.475      0.372      0.103\n"
     ]
    },
    {
     "name": "stderr",
     "output_type": "stream",
     "text": [
      "\n"
     ]
    },
    {
     "name": "stdout",
     "output_type": "stream",
     "text": [
      "\n",
      "      Epoch    GPU_mem   box_loss   cls_loss   dfl_loss  Instances       Size\n"
     ]
    },
    {
     "name": "stderr",
     "output_type": "stream",
     "text": [
      "      22/50      2.03G      1.142     0.8809      1.288         40        640: 100%|██████████| 72/72 [00:04<00:00, 15.24it/s]\n",
      "                 Class     Images  Instances      Box(P          R      mAP50  mAP50-95): 100%|██████████| 2/2 [00:00<00:00, 19.12it/s]"
     ]
    },
    {
     "name": "stdout",
     "output_type": "stream",
     "text": [
      "                   all         59         59      0.639      0.475      0.527      0.143\n"
     ]
    },
    {
     "name": "stderr",
     "output_type": "stream",
     "text": [
      "\n"
     ]
    },
    {
     "name": "stdout",
     "output_type": "stream",
     "text": [
      "\n",
      "      Epoch    GPU_mem   box_loss   cls_loss   dfl_loss  Instances       Size\n"
     ]
    },
    {
     "name": "stderr",
     "output_type": "stream",
     "text": [
      "      23/50      2.03G      1.109     0.8351      1.262         32        640: 100%|██████████| 72/72 [00:04<00:00, 15.61it/s]\n",
      "                 Class     Images  Instances      Box(P          R      mAP50  mAP50-95): 100%|██████████| 2/2 [00:00<00:00, 17.02it/s]"
     ]
    },
    {
     "name": "stdout",
     "output_type": "stream",
     "text": [
      "                   all         59         59      0.495      0.492      0.418      0.095\n"
     ]
    },
    {
     "name": "stderr",
     "output_type": "stream",
     "text": [
      "\n"
     ]
    },
    {
     "name": "stdout",
     "output_type": "stream",
     "text": [
      "\n",
      "      Epoch    GPU_mem   box_loss   cls_loss   dfl_loss  Instances       Size\n"
     ]
    },
    {
     "name": "stderr",
     "output_type": "stream",
     "text": [
      "      24/50      2.03G      1.109      0.825      1.254         42        640: 100%|██████████| 72/72 [00:04<00:00, 16.83it/s]\n",
      "                 Class     Images  Instances      Box(P          R      mAP50  mAP50-95): 100%|██████████| 2/2 [00:00<00:00, 10.11it/s]\n"
     ]
    },
    {
     "name": "stdout",
     "output_type": "stream",
     "text": [
      "                   all         59         59      0.467      0.475      0.436      0.109\n",
      "\n",
      "      Epoch    GPU_mem   box_loss   cls_loss   dfl_loss  Instances       Size\n"
     ]
    },
    {
     "name": "stderr",
     "output_type": "stream",
     "text": [
      "      25/50      2.03G      1.107     0.8031      1.238         31        640: 100%|██████████| 72/72 [00:03<00:00, 18.63it/s]\n",
      "                 Class     Images  Instances      Box(P          R      mAP50  mAP50-95): 100%|██████████| 2/2 [00:00<00:00,  4.15it/s]"
     ]
    },
    {
     "name": "stdout",
     "output_type": "stream",
     "text": [
      "                   all         59         59      0.468      0.441      0.309     0.0808\n"
     ]
    },
    {
     "name": "stderr",
     "output_type": "stream",
     "text": [
      "\n"
     ]
    },
    {
     "name": "stdout",
     "output_type": "stream",
     "text": [
      "\n",
      "      Epoch    GPU_mem   box_loss   cls_loss   dfl_loss  Instances       Size\n"
     ]
    },
    {
     "name": "stderr",
     "output_type": "stream",
     "text": [
      "      26/50      2.03G      1.056     0.7772       1.22         30        640: 100%|██████████| 72/72 [00:04<00:00, 17.83it/s]\n",
      "                 Class     Images  Instances      Box(P          R      mAP50  mAP50-95): 100%|██████████| 2/2 [00:00<00:00, 19.34it/s]"
     ]
    },
    {
     "name": "stdout",
     "output_type": "stream",
     "text": [
      "                   all         59         59      0.615      0.508       0.45       0.13\n"
     ]
    },
    {
     "name": "stderr",
     "output_type": "stream",
     "text": [
      "\n"
     ]
    },
    {
     "name": "stdout",
     "output_type": "stream",
     "text": [
      "\n",
      "      Epoch    GPU_mem   box_loss   cls_loss   dfl_loss  Instances       Size\n"
     ]
    },
    {
     "name": "stderr",
     "output_type": "stream",
     "text": [
      "      27/50      2.03G      1.063     0.7576      1.224         39        640: 100%|██████████| 72/72 [00:04<00:00, 16.87it/s]\n",
      "                 Class     Images  Instances      Box(P          R      mAP50  mAP50-95): 100%|██████████| 2/2 [00:00<00:00, 17.54it/s]"
     ]
    },
    {
     "name": "stdout",
     "output_type": "stream",
     "text": [
      "                   all         59         59      0.515      0.525      0.441      0.119\n"
     ]
    },
    {
     "name": "stderr",
     "output_type": "stream",
     "text": [
      "\n"
     ]
    },
    {
     "name": "stdout",
     "output_type": "stream",
     "text": [
      "\n",
      "      Epoch    GPU_mem   box_loss   cls_loss   dfl_loss  Instances       Size\n"
     ]
    },
    {
     "name": "stderr",
     "output_type": "stream",
     "text": [
      "      28/50      2.03G       0.99     0.7037      1.166         34        640: 100%|██████████| 72/72 [00:04<00:00, 15.19it/s]\n",
      "                 Class     Images  Instances      Box(P          R      mAP50  mAP50-95): 100%|██████████| 2/2 [00:00<00:00, 20.24it/s]"
     ]
    },
    {
     "name": "stdout",
     "output_type": "stream",
     "text": [
      "                   all         59         59       0.59       0.39      0.399      0.107\n"
     ]
    },
    {
     "name": "stderr",
     "output_type": "stream",
     "text": [
      "\n"
     ]
    },
    {
     "name": "stdout",
     "output_type": "stream",
     "text": [
      "\n",
      "      Epoch    GPU_mem   box_loss   cls_loss   dfl_loss  Instances       Size\n"
     ]
    },
    {
     "name": "stderr",
     "output_type": "stream",
     "text": [
      "      29/50      2.03G     0.9911     0.6986      1.169         32        640: 100%|██████████| 72/72 [00:04<00:00, 16.65it/s]\n",
      "                 Class     Images  Instances      Box(P          R      mAP50  mAP50-95): 100%|██████████| 2/2 [00:00<00:00, 14.07it/s]"
     ]
    },
    {
     "name": "stdout",
     "output_type": "stream",
     "text": [
      "                   all         59         59      0.511      0.492      0.388      0.101\n"
     ]
    },
    {
     "name": "stderr",
     "output_type": "stream",
     "text": [
      "\n"
     ]
    },
    {
     "name": "stdout",
     "output_type": "stream",
     "text": [
      "\n",
      "      Epoch    GPU_mem   box_loss   cls_loss   dfl_loss  Instances       Size\n"
     ]
    },
    {
     "name": "stderr",
     "output_type": "stream",
     "text": [
      "      30/50      2.03G     0.9611     0.6792      1.163         22        640: 100%|██████████| 72/72 [00:04<00:00, 17.10it/s]\n",
      "                 Class     Images  Instances      Box(P          R      mAP50  mAP50-95): 100%|██████████| 2/2 [00:00<00:00, 19.05it/s]"
     ]
    },
    {
     "name": "stdout",
     "output_type": "stream",
     "text": [
      "                   all         59         59      0.442      0.551      0.384     0.0843\n"
     ]
    },
    {
     "name": "stderr",
     "output_type": "stream",
     "text": [
      "\n"
     ]
    },
    {
     "name": "stdout",
     "output_type": "stream",
     "text": [
      "\n",
      "      Epoch    GPU_mem   box_loss   cls_loss   dfl_loss  Instances       Size\n"
     ]
    },
    {
     "name": "stderr",
     "output_type": "stream",
     "text": [
      "      31/50      2.03G     0.9404     0.6666      1.131         34        640: 100%|██████████| 72/72 [00:04<00:00, 17.25it/s]\n",
      "                 Class     Images  Instances      Box(P          R      mAP50  mAP50-95): 100%|██████████| 2/2 [00:00<00:00, 15.33it/s]"
     ]
    },
    {
     "name": "stdout",
     "output_type": "stream",
     "text": [
      "                   all         59         59      0.567      0.508      0.416      0.123\n"
     ]
    },
    {
     "name": "stderr",
     "output_type": "stream",
     "text": [
      "\n"
     ]
    },
    {
     "name": "stdout",
     "output_type": "stream",
     "text": [
      "\n",
      "      Epoch    GPU_mem   box_loss   cls_loss   dfl_loss  Instances       Size\n"
     ]
    },
    {
     "name": "stderr",
     "output_type": "stream",
     "text": [
      "      32/50      2.03G     0.9237     0.6629      1.129         22        640: 100%|██████████| 72/72 [00:04<00:00, 14.86it/s]\n",
      "                 Class     Images  Instances      Box(P          R      mAP50  mAP50-95): 100%|██████████| 2/2 [00:00<00:00, 18.86it/s]"
     ]
    },
    {
     "name": "stdout",
     "output_type": "stream",
     "text": [
      "                   all         59         59      0.397      0.475      0.296     0.0957\n"
     ]
    },
    {
     "name": "stderr",
     "output_type": "stream",
     "text": [
      "\n"
     ]
    },
    {
     "name": "stdout",
     "output_type": "stream",
     "text": [
      "\n",
      "      Epoch    GPU_mem   box_loss   cls_loss   dfl_loss  Instances       Size\n"
     ]
    },
    {
     "name": "stderr",
     "output_type": "stream",
     "text": [
      "      33/50      2.03G     0.9421     0.6675      1.138         33        640: 100%|██████████| 72/72 [00:03<00:00, 18.40it/s]\n",
      "                 Class     Images  Instances      Box(P          R      mAP50  mAP50-95): 100%|██████████| 2/2 [00:00<00:00, 10.61it/s]\n"
     ]
    },
    {
     "name": "stdout",
     "output_type": "stream",
     "text": [
      "                   all         59         59      0.505      0.554      0.482      0.115\n",
      "\n",
      "      Epoch    GPU_mem   box_loss   cls_loss   dfl_loss  Instances       Size\n"
     ]
    },
    {
     "name": "stderr",
     "output_type": "stream",
     "text": [
      "      34/50      2.03G     0.8722     0.6384      1.099         31        640: 100%|██████████| 72/72 [00:04<00:00, 18.00it/s]\n",
      "                 Class     Images  Instances      Box(P          R      mAP50  mAP50-95): 100%|██████████| 2/2 [00:00<00:00, 17.76it/s]"
     ]
    },
    {
     "name": "stdout",
     "output_type": "stream",
     "text": [
      "                   all         59         59      0.545      0.441      0.397     0.0946\n"
     ]
    },
    {
     "name": "stderr",
     "output_type": "stream",
     "text": [
      "\n"
     ]
    },
    {
     "name": "stdout",
     "output_type": "stream",
     "text": [
      "\n",
      "      Epoch    GPU_mem   box_loss   cls_loss   dfl_loss  Instances       Size\n"
     ]
    },
    {
     "name": "stderr",
     "output_type": "stream",
     "text": [
      "      35/50      2.03G     0.8686     0.6274      1.086         32        640: 100%|██████████| 72/72 [00:03<00:00, 18.54it/s]\n",
      "                 Class     Images  Instances      Box(P          R      mAP50  mAP50-95): 100%|██████████| 2/2 [00:00<00:00,  5.89it/s]"
     ]
    },
    {
     "name": "stdout",
     "output_type": "stream",
     "text": [
      "                   all         59         59      0.576      0.483      0.476      0.129\n"
     ]
    },
    {
     "name": "stderr",
     "output_type": "stream",
     "text": [
      "\n"
     ]
    },
    {
     "name": "stdout",
     "output_type": "stream",
     "text": [
      "\n",
      "      Epoch    GPU_mem   box_loss   cls_loss   dfl_loss  Instances       Size\n"
     ]
    },
    {
     "name": "stderr",
     "output_type": "stream",
     "text": [
      "      36/50      2.03G     0.8458     0.6084      1.076         32        640: 100%|██████████| 72/72 [00:04<00:00, 17.87it/s]\n",
      "                 Class     Images  Instances      Box(P          R      mAP50  mAP50-95): 100%|██████████| 2/2 [00:00<00:00, 16.66it/s]"
     ]
    },
    {
     "name": "stdout",
     "output_type": "stream",
     "text": [
      "                   all         59         59      0.571      0.508      0.431      0.123\n"
     ]
    },
    {
     "name": "stderr",
     "output_type": "stream",
     "text": [
      "\n"
     ]
    },
    {
     "name": "stdout",
     "output_type": "stream",
     "text": [
      "\n",
      "      Epoch    GPU_mem   box_loss   cls_loss   dfl_loss  Instances       Size\n"
     ]
    },
    {
     "name": "stderr",
     "output_type": "stream",
     "text": [
      "      37/50      2.03G     0.8248     0.5848      1.069         37        640: 100%|██████████| 72/72 [00:04<00:00, 15.83it/s]\n",
      "                 Class     Images  Instances      Box(P          R      mAP50  mAP50-95): 100%|██████████| 2/2 [00:00<00:00, 18.29it/s]"
     ]
    },
    {
     "name": "stdout",
     "output_type": "stream",
     "text": [
      "                   all         59         59      0.487      0.515      0.388      0.116\n"
     ]
    },
    {
     "name": "stderr",
     "output_type": "stream",
     "text": [
      "\n"
     ]
    },
    {
     "name": "stdout",
     "output_type": "stream",
     "text": [
      "\n",
      "      Epoch    GPU_mem   box_loss   cls_loss   dfl_loss  Instances       Size\n"
     ]
    },
    {
     "name": "stderr",
     "output_type": "stream",
     "text": [
      "      38/50      2.03G     0.8272      0.583      1.068         29        640: 100%|██████████| 72/72 [00:03<00:00, 18.74it/s]\n",
      "                 Class     Images  Instances      Box(P          R      mAP50  mAP50-95): 100%|██████████| 2/2 [00:00<00:00, 18.88it/s]"
     ]
    },
    {
     "name": "stdout",
     "output_type": "stream",
     "text": [
      "                   all         59         59      0.507      0.458      0.367      0.107\n"
     ]
    },
    {
     "name": "stderr",
     "output_type": "stream",
     "text": [
      "\n"
     ]
    },
    {
     "name": "stdout",
     "output_type": "stream",
     "text": [
      "\n",
      "      Epoch    GPU_mem   box_loss   cls_loss   dfl_loss  Instances       Size\n"
     ]
    },
    {
     "name": "stderr",
     "output_type": "stream",
     "text": [
      "      39/50      2.03G     0.8012     0.5608      1.051         37        640: 100%|██████████| 72/72 [00:04<00:00, 17.30it/s]\n",
      "                 Class     Images  Instances      Box(P          R      mAP50  mAP50-95): 100%|██████████| 2/2 [00:00<00:00, 19.44it/s]"
     ]
    },
    {
     "name": "stdout",
     "output_type": "stream",
     "text": [
      "                   all         59         59      0.517      0.475      0.377      0.107\n"
     ]
    },
    {
     "name": "stderr",
     "output_type": "stream",
     "text": [
      "\n"
     ]
    },
    {
     "name": "stdout",
     "output_type": "stream",
     "text": [
      "\n",
      "      Epoch    GPU_mem   box_loss   cls_loss   dfl_loss  Instances       Size\n"
     ]
    },
    {
     "name": "stderr",
     "output_type": "stream",
     "text": [
      "      40/50      2.03G     0.8128      0.557      1.047         27        640: 100%|██████████| 72/72 [00:04<00:00, 17.48it/s]\n",
      "                 Class     Images  Instances      Box(P          R      mAP50  mAP50-95): 100%|██████████| 2/2 [00:00<00:00, 20.27it/s]"
     ]
    },
    {
     "name": "stdout",
     "output_type": "stream",
     "text": [
      "                   all         59         59      0.561      0.458      0.412      0.114\n"
     ]
    },
    {
     "name": "stderr",
     "output_type": "stream",
     "text": [
      "\n"
     ]
    },
    {
     "name": "stdout",
     "output_type": "stream",
     "text": [
      "Closing dataloader mosaic\n",
      "\u001b[34m\u001b[1malbumentations: \u001b[0mBlur(p=0.01, blur_limit=(3, 7)), MedianBlur(p=0.01, blur_limit=(3, 7)), ToGray(p=0.01, num_output_channels=3, method='weighted_average'), CLAHE(p=0.01, clip_limit=(1.0, 4.0), tile_grid_size=(8, 8))\n",
      "\n",
      "      Epoch    GPU_mem   box_loss   cls_loss   dfl_loss  Instances       Size\n"
     ]
    },
    {
     "name": "stderr",
     "output_type": "stream",
     "text": [
      "      41/50      2.03G     0.6755     0.4325     0.9787         14        640: 100%|██████████| 72/72 [00:04<00:00, 15.02it/s]\n",
      "                 Class     Images  Instances      Box(P          R      mAP50  mAP50-95): 100%|██████████| 2/2 [00:00<00:00, 17.33it/s]"
     ]
    },
    {
     "name": "stdout",
     "output_type": "stream",
     "text": [
      "                   all         59         59      0.534      0.475      0.313      0.085\n"
     ]
    },
    {
     "name": "stderr",
     "output_type": "stream",
     "text": [
      "\n"
     ]
    },
    {
     "name": "stdout",
     "output_type": "stream",
     "text": [
      "\n",
      "      Epoch    GPU_mem   box_loss   cls_loss   dfl_loss  Instances       Size\n"
     ]
    },
    {
     "name": "stderr",
     "output_type": "stream",
     "text": [
      "      42/50      2.03G     0.6499     0.4075      0.971         14        640: 100%|██████████| 72/72 [00:04<00:00, 15.49it/s]\n",
      "                 Class     Images  Instances      Box(P          R      mAP50  mAP50-95): 100%|██████████| 2/2 [00:00<00:00, 19.56it/s]"
     ]
    },
    {
     "name": "stdout",
     "output_type": "stream",
     "text": [
      "                   all         59         59      0.487      0.542      0.436      0.132\n"
     ]
    },
    {
     "name": "stderr",
     "output_type": "stream",
     "text": [
      "\n"
     ]
    },
    {
     "name": "stdout",
     "output_type": "stream",
     "text": [
      "\n",
      "      Epoch    GPU_mem   box_loss   cls_loss   dfl_loss  Instances       Size\n"
     ]
    },
    {
     "name": "stderr",
     "output_type": "stream",
     "text": [
      "      43/50      2.03G     0.6297     0.4006     0.9704         14        640: 100%|██████████| 72/72 [00:04<00:00, 17.52it/s]\n",
      "                 Class     Images  Instances      Box(P          R      mAP50  mAP50-95): 100%|██████████| 2/2 [00:00<00:00, 20.56it/s]"
     ]
    },
    {
     "name": "stdout",
     "output_type": "stream",
     "text": [
      "                   all         59         59      0.564      0.475      0.433      0.133\n"
     ]
    },
    {
     "name": "stderr",
     "output_type": "stream",
     "text": [
      "\n"
     ]
    },
    {
     "name": "stdout",
     "output_type": "stream",
     "text": [
      "\n",
      "      Epoch    GPU_mem   box_loss   cls_loss   dfl_loss  Instances       Size\n"
     ]
    },
    {
     "name": "stderr",
     "output_type": "stream",
     "text": [
      "      44/50      2.03G     0.5878     0.3813     0.9465         14        640: 100%|██████████| 72/72 [00:04<00:00, 17.45it/s]\n",
      "                 Class     Images  Instances      Box(P          R      mAP50  mAP50-95): 100%|██████████| 2/2 [00:00<00:00, 20.12it/s]"
     ]
    },
    {
     "name": "stdout",
     "output_type": "stream",
     "text": [
      "                   all         59         59      0.506      0.542      0.447      0.119\n"
     ]
    },
    {
     "name": "stderr",
     "output_type": "stream",
     "text": [
      "\n"
     ]
    },
    {
     "name": "stdout",
     "output_type": "stream",
     "text": [
      "\n",
      "      Epoch    GPU_mem   box_loss   cls_loss   dfl_loss  Instances       Size\n"
     ]
    },
    {
     "name": "stderr",
     "output_type": "stream",
     "text": [
      "      45/50      2.03G     0.5679     0.3753     0.9206         14        640: 100%|██████████| 72/72 [00:03<00:00, 19.22it/s]\n",
      "                 Class     Images  Instances      Box(P          R      mAP50  mAP50-95): 100%|██████████| 2/2 [00:00<00:00, 19.60it/s]"
     ]
    },
    {
     "name": "stdout",
     "output_type": "stream",
     "text": [
      "                   all         59         59      0.542      0.407      0.381      0.113\n"
     ]
    },
    {
     "name": "stderr",
     "output_type": "stream",
     "text": [
      "\n"
     ]
    },
    {
     "name": "stdout",
     "output_type": "stream",
     "text": [
      "\n",
      "      Epoch    GPU_mem   box_loss   cls_loss   dfl_loss  Instances       Size\n"
     ]
    },
    {
     "name": "stderr",
     "output_type": "stream",
     "text": [
      "      46/50      2.03G     0.5548     0.3666     0.9178         14        640: 100%|██████████| 72/72 [00:03<00:00, 18.02it/s]\n",
      "                 Class     Images  Instances      Box(P          R      mAP50  mAP50-95): 100%|██████████| 2/2 [00:00<00:00, 14.76it/s]"
     ]
    },
    {
     "name": "stdout",
     "output_type": "stream",
     "text": [
      "                   all         59         59      0.574      0.475      0.429      0.121\n"
     ]
    },
    {
     "name": "stderr",
     "output_type": "stream",
     "text": [
      "\n"
     ]
    },
    {
     "name": "stdout",
     "output_type": "stream",
     "text": [
      "\n",
      "      Epoch    GPU_mem   box_loss   cls_loss   dfl_loss  Instances       Size\n"
     ]
    },
    {
     "name": "stderr",
     "output_type": "stream",
     "text": [
      "      47/50      2.03G     0.5441     0.3611     0.9078         14        640: 100%|██████████| 72/72 [00:04<00:00, 17.77it/s]\n",
      "                 Class     Images  Instances      Box(P          R      mAP50  mAP50-95): 100%|██████████| 2/2 [00:00<00:00, 19.70it/s]"
     ]
    },
    {
     "name": "stdout",
     "output_type": "stream",
     "text": [
      "                   all         59         59      0.462      0.492      0.388      0.119\n"
     ]
    },
    {
     "name": "stderr",
     "output_type": "stream",
     "text": [
      "\n"
     ]
    },
    {
     "name": "stdout",
     "output_type": "stream",
     "text": [
      "\n",
      "      Epoch    GPU_mem   box_loss   cls_loss   dfl_loss  Instances       Size\n"
     ]
    },
    {
     "name": "stderr",
     "output_type": "stream",
     "text": [
      "      48/50      2.03G     0.5185     0.3465     0.9066         14        640: 100%|██████████| 72/72 [00:04<00:00, 16.20it/s]\n",
      "                 Class     Images  Instances      Box(P          R      mAP50  mAP50-95): 100%|██████████| 2/2 [00:00<00:00, 13.88it/s]"
     ]
    },
    {
     "name": "stdout",
     "output_type": "stream",
     "text": [
      "                   all         59         59      0.533      0.492      0.395      0.102\n"
     ]
    },
    {
     "name": "stderr",
     "output_type": "stream",
     "text": [
      "\n"
     ]
    },
    {
     "name": "stdout",
     "output_type": "stream",
     "text": [
      "\n",
      "      Epoch    GPU_mem   box_loss   cls_loss   dfl_loss  Instances       Size\n"
     ]
    },
    {
     "name": "stderr",
     "output_type": "stream",
     "text": [
      "      49/50      2.03G     0.4953     0.3373     0.8905         14        640: 100%|██████████| 72/72 [00:04<00:00, 17.80it/s]\n",
      "                 Class     Images  Instances      Box(P          R      mAP50  mAP50-95): 100%|██████████| 2/2 [00:00<00:00, 18.83it/s]"
     ]
    },
    {
     "name": "stdout",
     "output_type": "stream",
     "text": [
      "                   all         59         59      0.584      0.524      0.415      0.129\n"
     ]
    },
    {
     "name": "stderr",
     "output_type": "stream",
     "text": [
      "\n"
     ]
    },
    {
     "name": "stdout",
     "output_type": "stream",
     "text": [
      "\n",
      "      Epoch    GPU_mem   box_loss   cls_loss   dfl_loss  Instances       Size\n"
     ]
    },
    {
     "name": "stderr",
     "output_type": "stream",
     "text": [
      "      50/50      2.03G     0.4811      0.331     0.8857         14        640: 100%|██████████| 72/72 [00:03<00:00, 20.77it/s]\n",
      "                 Class     Images  Instances      Box(P          R      mAP50  mAP50-95): 100%|██████████| 2/2 [00:00<00:00, 14.29it/s]"
     ]
    },
    {
     "name": "stdout",
     "output_type": "stream",
     "text": [
      "                   all         59         59      0.577      0.508      0.426      0.116\n"
     ]
    },
    {
     "name": "stderr",
     "output_type": "stream",
     "text": [
      "\n"
     ]
    },
    {
     "name": "stdout",
     "output_type": "stream",
     "text": [
      "\n",
      "50 epochs completed in 0.070 hours.\n",
      "Optimizer stripped from yolo_training_ASC/yolov8_sov_ASC/weights/last.pt, 6.2MB\n",
      "Optimizer stripped from yolo_training_ASC/yolov8_sov_ASC/weights/best.pt, 6.2MB\n",
      "\n",
      "Validating yolo_training_ASC/yolov8_sov_ASC/weights/best.pt...\n",
      "Ultralytics 8.3.84 🚀 Python-3.10.9 torch-2.5.1+cu124 CUDA:0 (NVIDIA H100 80GB HBM3, 80995MiB)\n",
      "Model summary (fused): 72 layers, 3,005,843 parameters, 0 gradients, 8.1 GFLOPs\n"
     ]
    },
    {
     "name": "stderr",
     "output_type": "stream",
     "text": [
      "                 Class     Images  Instances      Box(P          R      mAP50  mAP50-95): 100%|██████████| 2/2 [00:00<00:00, 18.56it/s]\n"
     ]
    },
    {
     "name": "stdout",
     "output_type": "stream",
     "text": [
      "                   all         59         59       0.64      0.475      0.527      0.143\n",
      "Speed: 0.0ms preprocess, 0.2ms inference, 0.0ms loss, 0.3ms postprocess per image\n",
      "Results saved to \u001b[1myolo_training_ASC/yolov8_sov_ASC\u001b[0m\n",
      "Training complete!\n"
     ]
    }
   ],
   "source": [
    "from ultralytics import YOLO\n",
    "\n",
    "# Path to dataset YAML file\n",
    "dataset_yaml = \"/mnt/nvme_disk2/User_data/nb57077k/cardiovision/phase2/Dataset/aorta_data/data.yaml\"  # Update this with the correct path\n",
    "\n",
    "# Load the YOLO model (Choose a model: yolov8n.pt, yolov8s.pt, yolov8m.pt, yolov8l.pt, yolov8x.pt)\n",
    "model = YOLO(\"yolov8n.pt\")  # Change the model as needed\n",
    "\n",
    "# Train the model\n",
    "model.train(\n",
    "    data=dataset_yaml,     # Path to dataset YAML\n",
    "    epochs=50,            # Number of training epochs\n",
    "    imgsz=640,             # Image size\n",
    "    batch=16,              # Batch size (adjust based on GPU memory)\n",
    "    device=\"cuda\",         # Use GPU (\"cuda\") or CPU (\"cpu\")\n",
    "    project=\"yolo_training_ASC\",  # Folder to save results\n",
    "    name=\"yolov8_sov_ASC\",     # Experiment name\n",
    "    workers=4,             # Number of dataloader workers\n",
    "    patience=50,           # Stop if no improvement after 10 epochs\n",
    "    augment=False           # Use data augmentation\n",
    ")\n",
    "\n",
    "# Print results\n",
    "print(\"Training complete!\")\n"
   ]
  },
  {
   "cell_type": "code",
   "execution_count": 6,
   "metadata": {},
   "outputs": [
    {
     "name": "stdout",
     "output_type": "stream",
     "text": [
      "\n",
      "image 1/1 /mnt/nvme_disk2/User_data/nb57077k/cardiovision/phase2/Dataset/aorta_data/images/val/RIVAS SEGURA, LUIS - 3mensio Screen Recording_longitudinal_view_314.png: 352x640 1 Ascending Aorta, 37.0ms\n",
      "Speed: 1.3ms preprocess, 37.0ms inference, 1.0ms postprocess per image at shape (1, 3, 352, 640)\n",
      "\n",
      "image 1/1 /mnt/nvme_disk2/User_data/nb57077k/cardiovision/phase2/Dataset/aorta_data/images/val/RIVAS SEGURA, LUIS - 3mensio Screen Recording_longitudinal_view_377.png: 352x640 2 Ascending Aortas, 4.0ms\n",
      "Speed: 1.3ms preprocess, 4.0ms inference, 0.9ms postprocess per image at shape (1, 3, 352, 640)\n",
      "\n",
      "image 1/1 /mnt/nvme_disk2/User_data/nb57077k/cardiovision/phase2/Dataset/aorta_data/images/val/S B - 3mensio Screen Recording_longitudinal_view_1003.png: 352x640 1 Ascending Aorta, 3.2ms\n",
      "Speed: 1.0ms preprocess, 3.2ms inference, 0.7ms postprocess per image at shape (1, 3, 352, 640)\n",
      "\n",
      "image 1/1 /mnt/nvme_disk2/User_data/nb57077k/cardiovision/phase2/Dataset/aorta_data/images/val/S B - 3mensio Screen Recording_longitudinal_view_845.png: 352x640 (no detections), 3.1ms\n",
      "Speed: 0.9ms preprocess, 3.1ms inference, 0.3ms postprocess per image at shape (1, 3, 352, 640)\n",
      "\n",
      "image 1/1 /mnt/nvme_disk2/User_data/nb57077k/cardiovision/phase2/Dataset/aorta_data/images/val/S B - 3mensio Screen Recording_longitudinal_view_941.png: 352x640 (no detections), 3.0ms\n",
      "Speed: 0.9ms preprocess, 3.0ms inference, 0.3ms postprocess per image at shape (1, 3, 352, 640)\n",
      "\n",
      "image 1/1 /mnt/nvme_disk2/User_data/nb57077k/cardiovision/phase2/Dataset/aorta_data/images/val/S G_longitudinal_view_310.png: 416x640 1 Ascending Aorta, 39.5ms\n",
      "Speed: 1.1ms preprocess, 39.5ms inference, 0.9ms postprocess per image at shape (1, 3, 416, 640)\n",
      "\n",
      "image 1/1 /mnt/nvme_disk2/User_data/nb57077k/cardiovision/phase2/Dataset/aorta_data/images/val/S G_longitudinal_view_315.png: 416x640 1 Ascending Aorta, 3.1ms\n",
      "Speed: 1.1ms preprocess, 3.1ms inference, 0.7ms postprocess per image at shape (1, 3, 416, 640)\n",
      "\n",
      "image 1/1 /mnt/nvme_disk2/User_data/nb57077k/cardiovision/phase2/Dataset/aorta_data/images/val/S G_longitudinal_view_325.png: 416x640 1 Ascending Aorta, 3.2ms\n",
      "Speed: 1.1ms preprocess, 3.2ms inference, 0.7ms postprocess per image at shape (1, 3, 416, 640)\n",
      "\n",
      "image 1/1 /mnt/nvme_disk2/User_data/nb57077k/cardiovision/phase2/Dataset/aorta_data/images/val/S R M R - 3mensio Screen Recording_longitudinal_view_327.png: 384x640 1 Ascending Aorta, 39.9ms\n",
      "Speed: 1.9ms preprocess, 39.9ms inference, 12.3ms postprocess per image at shape (1, 3, 384, 640)\n",
      "\n",
      "image 1/1 /mnt/nvme_disk2/User_data/nb57077k/cardiovision/phase2/Dataset/aorta_data/images/val/S R M R - 3mensio Screen Recording_longitudinal_view_419.png: 384x640 1 Ascending Aorta, 4.8ms\n",
      "Speed: 1.6ms preprocess, 4.8ms inference, 1.2ms postprocess per image at shape (1, 3, 384, 640)\n",
      "\n",
      "image 1/1 /mnt/nvme_disk2/User_data/nb57077k/cardiovision/phase2/Dataset/aorta_data/images/val/S R M R - 3mensio Screen Recording_longitudinal_view_473.png: 384x640 1 Ascending Aorta, 6.1ms\n",
      "Speed: 1.5ms preprocess, 6.1ms inference, 4.7ms postprocess per image at shape (1, 3, 384, 640)\n",
      "\n",
      "image 1/1 /mnt/nvme_disk2/User_data/nb57077k/cardiovision/phase2/Dataset/aorta_data/images/val/S S_longitudinal_view_536.png: 288x640 2 Ascending Aortas, 47.2ms\n",
      "Speed: 1.1ms preprocess, 47.2ms inference, 1.0ms postprocess per image at shape (1, 3, 288, 640)\n",
      "\n",
      "image 1/1 /mnt/nvme_disk2/User_data/nb57077k/cardiovision/phase2/Dataset/aorta_data/images/val/S S_longitudinal_view_781.png: 288x640 1 Ascending Aorta, 4.5ms\n",
      "Speed: 1.2ms preprocess, 4.5ms inference, 1.0ms postprocess per image at shape (1, 3, 288, 640)\n",
      "\n",
      "image 1/1 /mnt/nvme_disk2/User_data/nb57077k/cardiovision/phase2/Dataset/aorta_data/images/val/S S_longitudinal_view_900.png: 288x640 1 Ascending Aorta, 4.2ms\n",
      "Speed: 1.1ms preprocess, 4.2ms inference, 1.0ms postprocess per image at shape (1, 3, 288, 640)\n",
      "\n",
      "image 1/1 /mnt/nvme_disk2/User_data/nb57077k/cardiovision/phase2/Dataset/aorta_data/images/val/S0319RS_longitudinal_view_408.png: 288x640 2 Ascending Aortas, 3.8ms\n",
      "Speed: 1.1ms preprocess, 3.8ms inference, 0.8ms postprocess per image at shape (1, 3, 288, 640)\n",
      "\n",
      "image 1/1 /mnt/nvme_disk2/User_data/nb57077k/cardiovision/phase2/Dataset/aorta_data/images/val/S0319RS_longitudinal_view_475.png: 288x640 1 Ascending Aorta, 3.7ms\n",
      "Speed: 1.0ms preprocess, 3.7ms inference, 1.1ms postprocess per image at shape (1, 3, 288, 640)\n",
      "\n",
      "image 1/1 /mnt/nvme_disk2/User_data/nb57077k/cardiovision/phase2/Dataset/aorta_data/images/val/S0319RS_longitudinal_view_482.png: 288x640 1 Ascending Aorta, 9.1ms\n",
      "Speed: 1.2ms preprocess, 9.1ms inference, 1.6ms postprocess per image at shape (1, 3, 288, 640)\n",
      "\n",
      "image 1/1 /mnt/nvme_disk2/User_data/nb57077k/cardiovision/phase2/Dataset/aorta_data/images/val/S0330KS_longitudinal_view_255.png: 288x640 1 Ascending Aorta, 5.3ms\n",
      "Speed: 1.2ms preprocess, 5.3ms inference, 1.7ms postprocess per image at shape (1, 3, 288, 640)\n",
      "\n",
      "image 1/1 /mnt/nvme_disk2/User_data/nb57077k/cardiovision/phase2/Dataset/aorta_data/images/val/S0330KS_longitudinal_view_284.png: 288x640 2 Ascending Aortas, 4.7ms\n",
      "Speed: 1.3ms preprocess, 4.7ms inference, 1.3ms postprocess per image at shape (1, 3, 288, 640)\n",
      "\n",
      "image 1/1 /mnt/nvme_disk2/User_data/nb57077k/cardiovision/phase2/Dataset/aorta_data/images/val/S0330KS_longitudinal_view_331.png: 288x640 1 Ascending Aorta, 4.6ms\n",
      "Speed: 2.2ms preprocess, 4.6ms inference, 1.0ms postprocess per image at shape (1, 3, 288, 640)\n",
      "\n",
      "image 1/1 /mnt/nvme_disk2/User_data/nb57077k/cardiovision/phase2/Dataset/aorta_data/images/val/Schuszter, József - 3mensio Screen Recording_longitudinal_view_334.png: 320x640 1 Ascending Aorta, 50.0ms\n",
      "Speed: 1.2ms preprocess, 50.0ms inference, 1.2ms postprocess per image at shape (1, 3, 320, 640)\n",
      "\n",
      "image 1/1 /mnt/nvme_disk2/User_data/nb57077k/cardiovision/phase2/Dataset/aorta_data/images/val/Schuszter, József - 3mensio Screen Recording_longitudinal_view_338.png: 320x640 1 Ascending Aorta, 4.5ms\n",
      "Speed: 1.4ms preprocess, 4.5ms inference, 2.1ms postprocess per image at shape (1, 3, 320, 640)\n",
      "\n",
      "image 1/1 /mnt/nvme_disk2/User_data/nb57077k/cardiovision/phase2/Dataset/aorta_data/images/val/Schuszter, József - 3mensio Screen Recording_longitudinal_view_449.png: 320x640 1 Ascending Aorta, 4.5ms\n",
      "Speed: 1.4ms preprocess, 4.5ms inference, 1.0ms postprocess per image at shape (1, 3, 320, 640)\n",
      "\n",
      "image 1/1 /mnt/nvme_disk2/User_data/nb57077k/cardiovision/phase2/Dataset/aorta_data/images/val/TRAJKOVIÆ, MIRJANA - 3mensio Screen Recording_longitudinal_view_432.png: 352x640 (no detections), 5.1ms\n",
      "Speed: 1.4ms preprocess, 5.1ms inference, 0.5ms postprocess per image at shape (1, 3, 352, 640)\n",
      "\n",
      "image 1/1 /mnt/nvme_disk2/User_data/nb57077k/cardiovision/phase2/Dataset/aorta_data/images/val/TRAJKOVIÆ, MIRJANA - 3mensio Screen Recording_longitudinal_view_561.png: 352x640 (no detections), 8.3ms\n",
      "Speed: 1.2ms preprocess, 8.3ms inference, 0.4ms postprocess per image at shape (1, 3, 352, 640)\n",
      "\n",
      "image 1/1 /mnt/nvme_disk2/User_data/nb57077k/cardiovision/phase2/Dataset/aorta_data/images/val/TRAJKOVIÆ, MIRJANA - 3mensio Screen Recording_longitudinal_view_608.png: 352x640 1 Ascending Aorta, 4.3ms\n",
      "Speed: 2.1ms preprocess, 4.3ms inference, 1.1ms postprocess per image at shape (1, 3, 352, 640)\n",
      "\n",
      "image 1/1 /mnt/nvme_disk2/User_data/nb57077k/cardiovision/phase2/Dataset/aorta_data/images/val/Tsintsadze Izolda - 3mensio Screen Recording_longitudinal_view_419.png: 320x640 1 Ascending Aorta, 5.8ms\n",
      "Speed: 1.4ms preprocess, 5.8ms inference, 1.3ms postprocess per image at shape (1, 3, 320, 640)\n",
      "\n",
      "image 1/1 /mnt/nvme_disk2/User_data/nb57077k/cardiovision/phase2/Dataset/aorta_data/images/val/Tsintsadze Izolda - 3mensio Screen Recording_longitudinal_view_427.png: 320x640 1 Ascending Aorta, 4.5ms\n",
      "Speed: 1.9ms preprocess, 4.5ms inference, 0.9ms postprocess per image at shape (1, 3, 320, 640)\n",
      "\n",
      "image 1/1 /mnt/nvme_disk2/User_data/nb57077k/cardiovision/phase2/Dataset/aorta_data/images/val/Tsintsadze Izolda - 3mensio Screen Recording_longitudinal_view_429.png: 320x640 1 Ascending Aorta, 3.7ms\n",
      "Speed: 0.9ms preprocess, 3.7ms inference, 0.9ms postprocess per image at shape (1, 3, 320, 640)\n",
      "\n",
      "image 1/1 /mnt/nvme_disk2/User_data/nb57077k/cardiovision/phase2/Dataset/aorta_data/images/val/U M_longitudinal_view_447.png: 288x640 1 Ascending Aorta, 5.7ms\n",
      "Speed: 1.3ms preprocess, 5.7ms inference, 1.1ms postprocess per image at shape (1, 3, 288, 640)\n",
      "\n",
      "image 1/1 /mnt/nvme_disk2/User_data/nb57077k/cardiovision/phase2/Dataset/aorta_data/images/val/U M_longitudinal_view_489.png: 288x640 3 Ascending Aortas, 4.9ms\n",
      "Speed: 1.3ms preprocess, 4.9ms inference, 1.1ms postprocess per image at shape (1, 3, 288, 640)\n",
      "\n",
      "image 1/1 /mnt/nvme_disk2/User_data/nb57077k/cardiovision/phase2/Dataset/aorta_data/images/val/U M_longitudinal_view_504.png: 288x640 3 Ascending Aortas, 4.7ms\n",
      "Speed: 1.2ms preprocess, 4.7ms inference, 11.6ms postprocess per image at shape (1, 3, 288, 640)\n",
      "\n",
      "image 1/1 /mnt/nvme_disk2/User_data/nb57077k/cardiovision/phase2/Dataset/aorta_data/images/val/U S J - 3mensio Screen Recording_longitudinal_view_753.png: 352x640 1 Ascending Aorta, 4.0ms\n",
      "Speed: 1.0ms preprocess, 4.0ms inference, 0.8ms postprocess per image at shape (1, 3, 352, 640)\n",
      "\n",
      "image 1/1 /mnt/nvme_disk2/User_data/nb57077k/cardiovision/phase2/Dataset/aorta_data/images/val/U S J - 3mensio Screen Recording_longitudinal_view_825.png: 352x640 (no detections), 3.7ms\n",
      "Speed: 2.0ms preprocess, 3.7ms inference, 4.9ms postprocess per image at shape (1, 3, 352, 640)\n",
      "\n",
      "image 1/1 /mnt/nvme_disk2/User_data/nb57077k/cardiovision/phase2/Dataset/aorta_data/images/val/U S J - 3mensio Screen Recording_longitudinal_view_845.png: 352x640 (no detections), 4.7ms\n",
      "Speed: 1.1ms preprocess, 4.7ms inference, 0.7ms postprocess per image at shape (1, 3, 352, 640)\n",
      "\n",
      "image 1/1 /mnt/nvme_disk2/User_data/nb57077k/cardiovision/phase2/Dataset/aorta_data/images/val/V - 3mensio Screen Recording_longitudinal_view_1080.png: 288x640 1 Ascending Aorta, 5.6ms\n",
      "Speed: 1.2ms preprocess, 5.6ms inference, 1.0ms postprocess per image at shape (1, 3, 288, 640)\n",
      "\n",
      "image 1/1 /mnt/nvme_disk2/User_data/nb57077k/cardiovision/phase2/Dataset/aorta_data/images/val/V - 3mensio Screen Recording_longitudinal_view_747.png: 288x640 1 Ascending Aorta, 4.7ms\n",
      "Speed: 1.4ms preprocess, 4.7ms inference, 1.1ms postprocess per image at shape (1, 3, 288, 640)\n",
      "\n",
      "image 1/1 /mnt/nvme_disk2/User_data/nb57077k/cardiovision/phase2/Dataset/aorta_data/images/val/V - 3mensio Screen Recording_longitudinal_view_894.png: 288x640 1 Ascending Aorta, 4.5ms\n",
      "Speed: 1.6ms preprocess, 4.5ms inference, 1.0ms postprocess per image at shape (1, 3, 288, 640)\n",
      "\n",
      "image 1/1 /mnt/nvme_disk2/User_data/nb57077k/cardiovision/phase2/Dataset/aorta_data/images/val/V A F_longitudinal_view_363.png: 288x640 1 Ascending Aorta, 4.6ms\n",
      "Speed: 1.2ms preprocess, 4.6ms inference, 1.2ms postprocess per image at shape (1, 3, 288, 640)\n",
      "\n",
      "image 1/1 /mnt/nvme_disk2/User_data/nb57077k/cardiovision/phase2/Dataset/aorta_data/images/val/V A F_longitudinal_view_409.png: 288x640 1 Ascending Aorta, 4.5ms\n",
      "Speed: 1.3ms preprocess, 4.5ms inference, 1.7ms postprocess per image at shape (1, 3, 288, 640)\n",
      "\n",
      "image 1/1 /mnt/nvme_disk2/User_data/nb57077k/cardiovision/phase2/Dataset/aorta_data/images/val/V A F_longitudinal_view_531.png: 288x640 2 Ascending Aortas, 4.9ms\n",
      "Speed: 1.2ms preprocess, 4.9ms inference, 1.2ms postprocess per image at shape (1, 3, 288, 640)\n",
      "\n",
      "image 1/1 /mnt/nvme_disk2/User_data/nb57077k/cardiovision/phase2/Dataset/aorta_data/images/val/V J - 3mensio Screen Recording_longitudinal_view_582.png: 256x640 (no detections), 55.3ms\n",
      "Speed: 1.2ms preprocess, 55.3ms inference, 4.5ms postprocess per image at shape (1, 3, 256, 640)\n",
      "\n",
      "image 1/1 /mnt/nvme_disk2/User_data/nb57077k/cardiovision/phase2/Dataset/aorta_data/images/val/V J - 3mensio Screen Recording_longitudinal_view_702.png: 256x640 1 Ascending Aorta, 4.7ms\n",
      "Speed: 1.3ms preprocess, 4.7ms inference, 1.0ms postprocess per image at shape (1, 3, 256, 640)\n",
      "\n",
      "image 1/1 /mnt/nvme_disk2/User_data/nb57077k/cardiovision/phase2/Dataset/aorta_data/images/val/V J - 3mensio Screen Recording_longitudinal_view_710.png: 256x640 1 Ascending Aorta, 6.4ms\n",
      "Speed: 3.6ms preprocess, 6.4ms inference, 9.7ms postprocess per image at shape (1, 3, 256, 640)\n",
      "\n",
      "image 1/1 /mnt/nvme_disk2/User_data/nb57077k/cardiovision/phase2/Dataset/aorta_data/images/val/V K - 3mensio Screen Recording_longitudinal_view_594.png: 256x640 1 Ascending Aorta, 3.7ms\n",
      "Speed: 1.8ms preprocess, 3.7ms inference, 0.9ms postprocess per image at shape (1, 3, 256, 640)\n",
      "\n",
      "image 1/1 /mnt/nvme_disk2/User_data/nb57077k/cardiovision/phase2/Dataset/aorta_data/images/val/V K - 3mensio Screen Recording_longitudinal_view_723.png: 256x640 1 Ascending Aorta, 3.4ms\n",
      "Speed: 0.8ms preprocess, 3.4ms inference, 0.7ms postprocess per image at shape (1, 3, 256, 640)\n",
      "\n",
      "image 1/1 /mnt/nvme_disk2/User_data/nb57077k/cardiovision/phase2/Dataset/aorta_data/images/val/V K - 3mensio Screen Recording_longitudinal_view_752.png: 256x640 1 Ascending Aorta, 6.1ms\n",
      "Speed: 1.2ms preprocess, 6.1ms inference, 1.2ms postprocess per image at shape (1, 3, 256, 640)\n",
      "\n",
      "image 1/1 /mnt/nvme_disk2/User_data/nb57077k/cardiovision/phase2/Dataset/aorta_data/images/val/V V - 3mensio Screen Recording_longitudinal_view_658.png: 384x640 1 Ascending Aorta, 5.9ms\n",
      "Speed: 1.6ms preprocess, 5.9ms inference, 0.9ms postprocess per image at shape (1, 3, 384, 640)\n",
      "\n",
      "image 1/1 /mnt/nvme_disk2/User_data/nb57077k/cardiovision/phase2/Dataset/aorta_data/images/val/V V - 3mensio Screen Recording_longitudinal_view_763.png: 384x640 3 Ascending Aortas, 4.6ms\n",
      "Speed: 1.6ms preprocess, 4.6ms inference, 1.0ms postprocess per image at shape (1, 3, 384, 640)\n",
      "\n",
      "image 1/1 /mnt/nvme_disk2/User_data/nb57077k/cardiovision/phase2/Dataset/aorta_data/images/val/V V - 3mensio Screen Recording_longitudinal_view_935.png: 384x640 1 Ascending Aorta, 4.2ms\n",
      "Speed: 1.4ms preprocess, 4.2ms inference, 7.1ms postprocess per image at shape (1, 3, 384, 640)\n",
      "\n",
      "image 1/1 /mnt/nvme_disk2/User_data/nb57077k/cardiovision/phase2/Dataset/aorta_data/images/val/Varga, Nándor - 3mensio Screen Recording_longitudinal_view_538.png: 320x640 1 Ascending Aorta, 5.2ms\n",
      "Speed: 1.4ms preprocess, 5.2ms inference, 1.6ms postprocess per image at shape (1, 3, 320, 640)\n",
      "\n",
      "image 1/1 /mnt/nvme_disk2/User_data/nb57077k/cardiovision/phase2/Dataset/aorta_data/images/val/Varga, Nándor - 3mensio Screen Recording_longitudinal_view_688.png: 320x640 1 Ascending Aorta, 4.6ms\n",
      "Speed: 1.3ms preprocess, 4.6ms inference, 1.2ms postprocess per image at shape (1, 3, 320, 640)\n",
      "\n",
      "image 1/1 /mnt/nvme_disk2/User_data/nb57077k/cardiovision/phase2/Dataset/aorta_data/images/val/Varga, Nándor - 3mensio Screen Recording_longitudinal_view_783.png: 320x640 1 Ascending Aorta, 5.3ms\n",
      "Speed: 2.4ms preprocess, 5.3ms inference, 1.0ms postprocess per image at shape (1, 3, 320, 640)\n",
      "\n",
      "image 1/1 /mnt/nvme_disk2/User_data/nb57077k/cardiovision/phase2/Dataset/aorta_data/images/val/W D - 3mensio Screen Recording_longitudinal_view_1109.png: 384x640 1 Ascending Aorta, 5.2ms\n",
      "Speed: 1.5ms preprocess, 5.2ms inference, 1.4ms postprocess per image at shape (1, 3, 384, 640)\n",
      "\n",
      "image 1/1 /mnt/nvme_disk2/User_data/nb57077k/cardiovision/phase2/Dataset/aorta_data/images/val/W D - 3mensio Screen Recording_longitudinal_view_1227.png: 384x640 1 Ascending Aorta, 5.5ms\n",
      "Speed: 1.5ms preprocess, 5.5ms inference, 1.6ms postprocess per image at shape (1, 3, 384, 640)\n",
      "\n",
      "image 1/1 /mnt/nvme_disk2/User_data/nb57077k/cardiovision/phase2/Dataset/aorta_data/images/val/W D - 3mensio Screen Recording_longitudinal_view_799.png: 384x640 1 Ascending Aorta, 4.7ms\n",
      "Speed: 1.5ms preprocess, 4.7ms inference, 1.2ms postprocess per image at shape (1, 3, 384, 640)\n",
      "\n",
      "image 1/1 /mnt/nvme_disk2/User_data/nb57077k/cardiovision/phase2/Dataset/aorta_data/images/val/ФИЛИППОВ, Ярослав Владимирович_longitudinal_view_417.png: 320x640 1 Ascending Aorta, 5.3ms\n",
      "Speed: 1.4ms preprocess, 5.3ms inference, 1.3ms postprocess per image at shape (1, 3, 320, 640)\n",
      "\n",
      "image 1/1 /mnt/nvme_disk2/User_data/nb57077k/cardiovision/phase2/Dataset/aorta_data/images/val/ФИЛИППОВ, Ярослав Владимирович_longitudinal_view_456.png: 320x640 1 Ascending Aorta, 4.8ms\n",
      "Speed: 1.4ms preprocess, 4.8ms inference, 2.1ms postprocess per image at shape (1, 3, 320, 640)\n",
      "\n",
      "image 1/1 /mnt/nvme_disk2/User_data/nb57077k/cardiovision/phase2/Dataset/aorta_data/images/val/ФИЛИППОВ, Ярослав Владимирович_longitudinal_view_471.png: 320x640 2 Ascending Aortas, 3.5ms\n",
      "Speed: 2.7ms preprocess, 3.5ms inference, 0.8ms postprocess per image at shape (1, 3, 320, 640)\n",
      "✅ Inference complete! Annotated frames saved in: predict\n"
     ]
    }
   ],
   "source": [
    "from ultralytics import YOLO\n",
    "import cv2\n",
    "import os\n",
    "\n",
    "# Load YOLO model (use your trained model)\n",
    "model_path = \"/mnt/nvme_disk2/User_data/nb57077k/cardiovision/phase2/Models/yolo_training_ASC/yolov8_sov_ASC/weights/best.pt\"\n",
    "model = YOLO(model_path)\n",
    "\n",
    "# Path to input frames folder\n",
    "input_folder = \"/mnt/nvme_disk2/User_data/nb57077k/cardiovision/phase2/Dataset/aorta_data/images/val\"\n",
    "\n",
    "# Output directory for annotated frames\n",
    "output_folder = \"predict\"\n",
    "os.makedirs(output_folder, exist_ok=True)\n",
    "\n",
    "# Process each image in the folder\n",
    "for frame_file in sorted(os.listdir(input_folder)):  # Sorting ensures correct sequence\n",
    "    if frame_file.lower().endswith(('.jpg', '.png', '.jpeg')):\n",
    "        frame_path = os.path.join(input_folder, frame_file)\n",
    "\n",
    "        # Run YOLO inference\n",
    "        results = model(frame_path)\n",
    "        \n",
    "        # Get detected objects\n",
    "        boxes = results[0].boxes  # Bounding boxes\n",
    "        confs = boxes.conf if boxes is not None else []  # Confidence scores\n",
    "\n",
    "        # Keep only the highest confidence box\n",
    "        if len(confs) > 0:\n",
    "            max_conf_idx = confs.argmax().item()  # Index of highest confidence box\n",
    "            best_box = boxes[max_conf_idx]  # Select best bounding box\n",
    "\n",
    "            # Draw bounding box on the image\n",
    "            img = results[0].orig_img  # Get original image\n",
    "            x1, y1, x2, y2 = map(int, best_box.xyxy[0])  # Get box coordinates\n",
    "            conf = best_box.conf.item()  # Get confidence score\n",
    "            \n",
    "            # Draw rectangle and confidence text\n",
    "            cv2.rectangle(img, (x1, y1), (x2, y2), (0, 255, 0), 2)\n",
    "            cv2.putText(img, f\"Conf: {conf:.2f}\", (x1, y1 - 10), cv2.FONT_HERSHEY_SIMPLEX, \n",
    "                        0.5, (0, 255, 0), 2, cv2.LINE_AA)\n",
    "            \n",
    "            # Save the image with the best box\n",
    "            output_path = os.path.join(output_folder, frame_file)\n",
    "            cv2.imwrite(output_path, img)\n",
    "\n",
    "print(f\"✅ Inference complete! Annotated frames saved in: {output_folder}\")\n"
   ]
  },
  {
   "cell_type": "code",
   "execution_count": null,
   "metadata": {},
   "outputs": [],
   "source": []
  }
 ],
 "metadata": {
  "kernelspec": {
   "display_name": "harsh",
   "language": "python",
   "name": "python3"
  },
  "language_info": {
   "codemirror_mode": {
    "name": "ipython",
    "version": 3
   },
   "file_extension": ".py",
   "mimetype": "text/x-python",
   "name": "python",
   "nbconvert_exporter": "python",
   "pygments_lexer": "ipython3",
   "version": "3.10.9"
  }
 },
 "nbformat": 4,
 "nbformat_minor": 2
}
